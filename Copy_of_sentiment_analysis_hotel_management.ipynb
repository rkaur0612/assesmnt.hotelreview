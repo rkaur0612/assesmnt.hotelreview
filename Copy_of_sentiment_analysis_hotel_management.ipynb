{
  "nbformat": 4,
  "nbformat_minor": 0,
  "metadata": {
    "colab": {
      "provenance": [],
      "authorship_tag": "ABX9TyM6LDJVZP3KO+gKpfHj4RXj",
      "include_colab_link": true
    },
    "kernelspec": {
      "name": "python3",
      "display_name": "Python 3"
    },
    "language_info": {
      "name": "python"
    }
  },
  "cells": [
    {
      "cell_type": "markdown",
      "metadata": {
        "id": "view-in-github",
        "colab_type": "text"
      },
      "source": [
        "<a href=\"https://colab.research.google.com/github/rkaur0612/assesmnt.hotelreview/blob/main/Copy_of_sentiment_analysis_hotel_management.ipynb\" target=\"_parent\"><img src=\"https://colab.research.google.com/assets/colab-badge.svg\" alt=\"Open In Colab\"/></a>"
      ]
    },
    {
      "cell_type": "code",
      "execution_count": null,
      "metadata": {
        "id": "a4NtfoKNi46R"
      },
      "outputs": [],
      "source": [
        "\n",
        "\n",
        "import pandas as pd\n",
        "import numpy as np\n",
        "import matplotlib.pyplot as plt\n"
      ]
    },
    {
      "cell_type": "code",
      "source": [
        "data=pd.read_csv(\"/content/Hotel_Reviews.csv\")\n",
        "data"
      ],
      "metadata": {
        "colab": {
          "base_uri": "https://localhost:8080/",
          "height": 1000
        },
        "id": "P8a_k6EQi9Xl",
        "outputId": "6df899e2-2208-4c10-dac4-6f600db99931"
      },
      "execution_count": null,
      "outputs": [
        {
          "output_type": "execute_result",
          "data": {
            "text/plain": [
              "                                            Hotel_Address  \\\n",
              "0        s Gravesandestraat 55 Oost 1092 AA Amsterdam ...   \n",
              "1        s Gravesandestraat 55 Oost 1092 AA Amsterdam ...   \n",
              "2        s Gravesandestraat 55 Oost 1092 AA Amsterdam ...   \n",
              "3        s Gravesandestraat 55 Oost 1092 AA Amsterdam ...   \n",
              "4        s Gravesandestraat 55 Oost 1092 AA Amsterdam ...   \n",
              "...                                                   ...   \n",
              "208132  52 Chiswell Street City of London London EC1Y ...   \n",
              "208133  52 Chiswell Street City of London London EC1Y ...   \n",
              "208134  52 Chiswell Street City of London London EC1Y ...   \n",
              "208135  52 Chiswell Street City of London London EC1Y ...   \n",
              "208136                                             52 Chi   \n",
              "\n",
              "        Additional_Number_of_Scoring Review_Date  Average_Score  \\\n",
              "0                              194.0    8/3/2017            7.7   \n",
              "1                              194.0    8/3/2017            7.7   \n",
              "2                              194.0   7/31/2017            7.7   \n",
              "3                              194.0   7/31/2017            7.7   \n",
              "4                              194.0   7/24/2017            7.7   \n",
              "...                              ...         ...            ...   \n",
              "208132                         704.0    1/2/2017            8.8   \n",
              "208133                         704.0    1/1/2017            8.8   \n",
              "208134                         704.0    1/1/2017            8.8   \n",
              "208135                         704.0  12/31/2016            8.8   \n",
              "208136                           NaN         NaN            NaN   \n",
              "\n",
              "                                 Hotel_Name        Reviewer_Nationality  \\\n",
              "0                               Hotel Arena                     Russia    \n",
              "1                               Hotel Arena                    Ireland    \n",
              "2                               Hotel Arena                  Australia    \n",
              "3                               Hotel Arena             United Kingdom    \n",
              "4                               Hotel Arena                New Zealand    \n",
              "...                                     ...                         ...   \n",
              "208132  The Montcalm At Brewery London City   United States of America    \n",
              "208133  The Montcalm At Brewery London City                 Luxembourg    \n",
              "208134  The Montcalm At Brewery London City             United Kingdom    \n",
              "208135  The Montcalm At Brewery London City             United Kingdom    \n",
              "208136                                  NaN                         NaN   \n",
              "\n",
              "                                          Negative_Review  \\\n",
              "0        I am so angry that i made this post available...   \n",
              "1                                             No Negative   \n",
              "2        Rooms are nice but for elderly a bit difficul...   \n",
              "3        My room was dirty and I was afraid to walk ba...   \n",
              "4        You When I booked with your company on line y...   \n",
              "...                                                   ...   \n",
              "208132   1 Concierge seemed to have VERY limited knowl...   \n",
              "208133   Service at breakfast could have been better v...   \n",
              "208134                                        No Negative   \n",
              "208135   A bit of confusion at check in but staff apol...   \n",
              "208136                                                NaN   \n",
              "\n",
              "        Review_Total_Negative_Word_Counts  Total_Number_of_Reviews  \\\n",
              "0                                   397.0                   1403.0   \n",
              "1                                     0.0                   1403.0   \n",
              "2                                    42.0                   1403.0   \n",
              "3                                   210.0                   1403.0   \n",
              "4                                   140.0                   1403.0   \n",
              "...                                   ...                      ...   \n",
              "208132                              158.0                   2617.0   \n",
              "208133                               25.0                   2617.0   \n",
              "208134                                0.0                   2617.0   \n",
              "208135                               20.0                   2617.0   \n",
              "208136                                NaN                      NaN   \n",
              "\n",
              "                                          Positive_Review  \\\n",
              "0        Only the park outside of the hotel was beauti...   \n",
              "1        No real complaints the hotel was great great ...   \n",
              "2        Location was good and staff were ok It is cut...   \n",
              "3        Great location in nice surroundings the bar a...   \n",
              "4         Amazing location and building Romantic setting    \n",
              "...                                                   ...   \n",
              "208132              Architecture of the hotel and history   \n",
              "208133               Staff in hotel were all very helpful   \n",
              "208134   It was quiet staff very helpful Room had the ...   \n",
              "208135   Smart hotel great location friendly staff and...   \n",
              "208136                                                NaN   \n",
              "\n",
              "        Review_Total_Positive_Word_Counts  \\\n",
              "0                                    11.0   \n",
              "1                                   105.0   \n",
              "2                                    21.0   \n",
              "3                                    26.0   \n",
              "4                                     8.0   \n",
              "...                                   ...   \n",
              "208132                                7.0   \n",
              "208133                                8.0   \n",
              "208134                               27.0   \n",
              "208135                               15.0   \n",
              "208136                                NaN   \n",
              "\n",
              "        Total_Number_of_Reviews_Reviewer_Has_Given  Reviewer_Score  \\\n",
              "0                                              7.0             2.9   \n",
              "1                                              7.0             7.5   \n",
              "2                                              9.0             7.1   \n",
              "3                                              1.0             3.8   \n",
              "4                                              3.0             6.7   \n",
              "...                                            ...             ...   \n",
              "208132                                         1.0             7.1   \n",
              "208133                                        11.0             8.3   \n",
              "208134                                         7.0             9.2   \n",
              "208135                                         1.0             9.2   \n",
              "208136                                         NaN             NaN   \n",
              "\n",
              "                                                     Tags days_since_review  \\\n",
              "0       [' Leisure trip ', ' Couple ', ' Duplex Double...            0 days   \n",
              "1       [' Leisure trip ', ' Couple ', ' Duplex Double...            0 days   \n",
              "2       [' Leisure trip ', ' Family with young childre...            3 days   \n",
              "3       [' Leisure trip ', ' Solo traveler ', ' Duplex...            3 days   \n",
              "4       [' Leisure trip ', ' Couple ', ' Suite ', ' St...           10 days   \n",
              "...                                                   ...               ...   \n",
              "208132  [' Leisure trip ', ' Couple ', ' Deluxe Double...           213 day   \n",
              "208133  [' Leisure trip ', ' Couple ', ' Deluxe Double...           214 day   \n",
              "208134  [' Leisure trip ', ' Couple ', ' Deluxe Double...           214 day   \n",
              "208135  [' Leisure trip ', ' Couple ', ' Club Double R...           215 day   \n",
              "208136                                                NaN               NaN   \n",
              "\n",
              "              lat       lng  \n",
              "0       52.360576  4.915968  \n",
              "1       52.360576  4.915968  \n",
              "2       52.360576  4.915968  \n",
              "3       52.360576  4.915968  \n",
              "4       52.360576  4.915968  \n",
              "...           ...       ...  \n",
              "208132  51.520815 -0.091532  \n",
              "208133  51.520815 -0.091532  \n",
              "208134  51.520815 -0.091532  \n",
              "208135  51.520815 -0.091532  \n",
              "208136        NaN       NaN  \n",
              "\n",
              "[208137 rows x 17 columns]"
            ],
            "text/html": [
              "\n",
              "  <div id=\"df-39fe5a3d-776d-4e5a-b665-9d77ac531cca\">\n",
              "    <div class=\"colab-df-container\">\n",
              "      <div>\n",
              "<style scoped>\n",
              "    .dataframe tbody tr th:only-of-type {\n",
              "        vertical-align: middle;\n",
              "    }\n",
              "\n",
              "    .dataframe tbody tr th {\n",
              "        vertical-align: top;\n",
              "    }\n",
              "\n",
              "    .dataframe thead th {\n",
              "        text-align: right;\n",
              "    }\n",
              "</style>\n",
              "<table border=\"1\" class=\"dataframe\">\n",
              "  <thead>\n",
              "    <tr style=\"text-align: right;\">\n",
              "      <th></th>\n",
              "      <th>Hotel_Address</th>\n",
              "      <th>Additional_Number_of_Scoring</th>\n",
              "      <th>Review_Date</th>\n",
              "      <th>Average_Score</th>\n",
              "      <th>Hotel_Name</th>\n",
              "      <th>Reviewer_Nationality</th>\n",
              "      <th>Negative_Review</th>\n",
              "      <th>Review_Total_Negative_Word_Counts</th>\n",
              "      <th>Total_Number_of_Reviews</th>\n",
              "      <th>Positive_Review</th>\n",
              "      <th>Review_Total_Positive_Word_Counts</th>\n",
              "      <th>Total_Number_of_Reviews_Reviewer_Has_Given</th>\n",
              "      <th>Reviewer_Score</th>\n",
              "      <th>Tags</th>\n",
              "      <th>days_since_review</th>\n",
              "      <th>lat</th>\n",
              "      <th>lng</th>\n",
              "    </tr>\n",
              "  </thead>\n",
              "  <tbody>\n",
              "    <tr>\n",
              "      <th>0</th>\n",
              "      <td>s Gravesandestraat 55 Oost 1092 AA Amsterdam ...</td>\n",
              "      <td>194.0</td>\n",
              "      <td>8/3/2017</td>\n",
              "      <td>7.7</td>\n",
              "      <td>Hotel Arena</td>\n",
              "      <td>Russia</td>\n",
              "      <td>I am so angry that i made this post available...</td>\n",
              "      <td>397.0</td>\n",
              "      <td>1403.0</td>\n",
              "      <td>Only the park outside of the hotel was beauti...</td>\n",
              "      <td>11.0</td>\n",
              "      <td>7.0</td>\n",
              "      <td>2.9</td>\n",
              "      <td>[' Leisure trip ', ' Couple ', ' Duplex Double...</td>\n",
              "      <td>0 days</td>\n",
              "      <td>52.360576</td>\n",
              "      <td>4.915968</td>\n",
              "    </tr>\n",
              "    <tr>\n",
              "      <th>1</th>\n",
              "      <td>s Gravesandestraat 55 Oost 1092 AA Amsterdam ...</td>\n",
              "      <td>194.0</td>\n",
              "      <td>8/3/2017</td>\n",
              "      <td>7.7</td>\n",
              "      <td>Hotel Arena</td>\n",
              "      <td>Ireland</td>\n",
              "      <td>No Negative</td>\n",
              "      <td>0.0</td>\n",
              "      <td>1403.0</td>\n",
              "      <td>No real complaints the hotel was great great ...</td>\n",
              "      <td>105.0</td>\n",
              "      <td>7.0</td>\n",
              "      <td>7.5</td>\n",
              "      <td>[' Leisure trip ', ' Couple ', ' Duplex Double...</td>\n",
              "      <td>0 days</td>\n",
              "      <td>52.360576</td>\n",
              "      <td>4.915968</td>\n",
              "    </tr>\n",
              "    <tr>\n",
              "      <th>2</th>\n",
              "      <td>s Gravesandestraat 55 Oost 1092 AA Amsterdam ...</td>\n",
              "      <td>194.0</td>\n",
              "      <td>7/31/2017</td>\n",
              "      <td>7.7</td>\n",
              "      <td>Hotel Arena</td>\n",
              "      <td>Australia</td>\n",
              "      <td>Rooms are nice but for elderly a bit difficul...</td>\n",
              "      <td>42.0</td>\n",
              "      <td>1403.0</td>\n",
              "      <td>Location was good and staff were ok It is cut...</td>\n",
              "      <td>21.0</td>\n",
              "      <td>9.0</td>\n",
              "      <td>7.1</td>\n",
              "      <td>[' Leisure trip ', ' Family with young childre...</td>\n",
              "      <td>3 days</td>\n",
              "      <td>52.360576</td>\n",
              "      <td>4.915968</td>\n",
              "    </tr>\n",
              "    <tr>\n",
              "      <th>3</th>\n",
              "      <td>s Gravesandestraat 55 Oost 1092 AA Amsterdam ...</td>\n",
              "      <td>194.0</td>\n",
              "      <td>7/31/2017</td>\n",
              "      <td>7.7</td>\n",
              "      <td>Hotel Arena</td>\n",
              "      <td>United Kingdom</td>\n",
              "      <td>My room was dirty and I was afraid to walk ba...</td>\n",
              "      <td>210.0</td>\n",
              "      <td>1403.0</td>\n",
              "      <td>Great location in nice surroundings the bar a...</td>\n",
              "      <td>26.0</td>\n",
              "      <td>1.0</td>\n",
              "      <td>3.8</td>\n",
              "      <td>[' Leisure trip ', ' Solo traveler ', ' Duplex...</td>\n",
              "      <td>3 days</td>\n",
              "      <td>52.360576</td>\n",
              "      <td>4.915968</td>\n",
              "    </tr>\n",
              "    <tr>\n",
              "      <th>4</th>\n",
              "      <td>s Gravesandestraat 55 Oost 1092 AA Amsterdam ...</td>\n",
              "      <td>194.0</td>\n",
              "      <td>7/24/2017</td>\n",
              "      <td>7.7</td>\n",
              "      <td>Hotel Arena</td>\n",
              "      <td>New Zealand</td>\n",
              "      <td>You When I booked with your company on line y...</td>\n",
              "      <td>140.0</td>\n",
              "      <td>1403.0</td>\n",
              "      <td>Amazing location and building Romantic setting</td>\n",
              "      <td>8.0</td>\n",
              "      <td>3.0</td>\n",
              "      <td>6.7</td>\n",
              "      <td>[' Leisure trip ', ' Couple ', ' Suite ', ' St...</td>\n",
              "      <td>10 days</td>\n",
              "      <td>52.360576</td>\n",
              "      <td>4.915968</td>\n",
              "    </tr>\n",
              "    <tr>\n",
              "      <th>...</th>\n",
              "      <td>...</td>\n",
              "      <td>...</td>\n",
              "      <td>...</td>\n",
              "      <td>...</td>\n",
              "      <td>...</td>\n",
              "      <td>...</td>\n",
              "      <td>...</td>\n",
              "      <td>...</td>\n",
              "      <td>...</td>\n",
              "      <td>...</td>\n",
              "      <td>...</td>\n",
              "      <td>...</td>\n",
              "      <td>...</td>\n",
              "      <td>...</td>\n",
              "      <td>...</td>\n",
              "      <td>...</td>\n",
              "      <td>...</td>\n",
              "    </tr>\n",
              "    <tr>\n",
              "      <th>208132</th>\n",
              "      <td>52 Chiswell Street City of London London EC1Y ...</td>\n",
              "      <td>704.0</td>\n",
              "      <td>1/2/2017</td>\n",
              "      <td>8.8</td>\n",
              "      <td>The Montcalm At Brewery London City</td>\n",
              "      <td>United States of America</td>\n",
              "      <td>1 Concierge seemed to have VERY limited knowl...</td>\n",
              "      <td>158.0</td>\n",
              "      <td>2617.0</td>\n",
              "      <td>Architecture of the hotel and history</td>\n",
              "      <td>7.0</td>\n",
              "      <td>1.0</td>\n",
              "      <td>7.1</td>\n",
              "      <td>[' Leisure trip ', ' Couple ', ' Deluxe Double...</td>\n",
              "      <td>213 day</td>\n",
              "      <td>51.520815</td>\n",
              "      <td>-0.091532</td>\n",
              "    </tr>\n",
              "    <tr>\n",
              "      <th>208133</th>\n",
              "      <td>52 Chiswell Street City of London London EC1Y ...</td>\n",
              "      <td>704.0</td>\n",
              "      <td>1/1/2017</td>\n",
              "      <td>8.8</td>\n",
              "      <td>The Montcalm At Brewery London City</td>\n",
              "      <td>Luxembourg</td>\n",
              "      <td>Service at breakfast could have been better v...</td>\n",
              "      <td>25.0</td>\n",
              "      <td>2617.0</td>\n",
              "      <td>Staff in hotel were all very helpful</td>\n",
              "      <td>8.0</td>\n",
              "      <td>11.0</td>\n",
              "      <td>8.3</td>\n",
              "      <td>[' Leisure trip ', ' Couple ', ' Deluxe Double...</td>\n",
              "      <td>214 day</td>\n",
              "      <td>51.520815</td>\n",
              "      <td>-0.091532</td>\n",
              "    </tr>\n",
              "    <tr>\n",
              "      <th>208134</th>\n",
              "      <td>52 Chiswell Street City of London London EC1Y ...</td>\n",
              "      <td>704.0</td>\n",
              "      <td>1/1/2017</td>\n",
              "      <td>8.8</td>\n",
              "      <td>The Montcalm At Brewery London City</td>\n",
              "      <td>United Kingdom</td>\n",
              "      <td>No Negative</td>\n",
              "      <td>0.0</td>\n",
              "      <td>2617.0</td>\n",
              "      <td>It was quiet staff very helpful Room had the ...</td>\n",
              "      <td>27.0</td>\n",
              "      <td>7.0</td>\n",
              "      <td>9.2</td>\n",
              "      <td>[' Leisure trip ', ' Couple ', ' Deluxe Double...</td>\n",
              "      <td>214 day</td>\n",
              "      <td>51.520815</td>\n",
              "      <td>-0.091532</td>\n",
              "    </tr>\n",
              "    <tr>\n",
              "      <th>208135</th>\n",
              "      <td>52 Chiswell Street City of London London EC1Y ...</td>\n",
              "      <td>704.0</td>\n",
              "      <td>12/31/2016</td>\n",
              "      <td>8.8</td>\n",
              "      <td>The Montcalm At Brewery London City</td>\n",
              "      <td>United Kingdom</td>\n",
              "      <td>A bit of confusion at check in but staff apol...</td>\n",
              "      <td>20.0</td>\n",
              "      <td>2617.0</td>\n",
              "      <td>Smart hotel great location friendly staff and...</td>\n",
              "      <td>15.0</td>\n",
              "      <td>1.0</td>\n",
              "      <td>9.2</td>\n",
              "      <td>[' Leisure trip ', ' Couple ', ' Club Double R...</td>\n",
              "      <td>215 day</td>\n",
              "      <td>51.520815</td>\n",
              "      <td>-0.091532</td>\n",
              "    </tr>\n",
              "    <tr>\n",
              "      <th>208136</th>\n",
              "      <td>52 Chi</td>\n",
              "      <td>NaN</td>\n",
              "      <td>NaN</td>\n",
              "      <td>NaN</td>\n",
              "      <td>NaN</td>\n",
              "      <td>NaN</td>\n",
              "      <td>NaN</td>\n",
              "      <td>NaN</td>\n",
              "      <td>NaN</td>\n",
              "      <td>NaN</td>\n",
              "      <td>NaN</td>\n",
              "      <td>NaN</td>\n",
              "      <td>NaN</td>\n",
              "      <td>NaN</td>\n",
              "      <td>NaN</td>\n",
              "      <td>NaN</td>\n",
              "      <td>NaN</td>\n",
              "    </tr>\n",
              "  </tbody>\n",
              "</table>\n",
              "<p>208137 rows × 17 columns</p>\n",
              "</div>\n",
              "      <button class=\"colab-df-convert\" onclick=\"convertToInteractive('df-39fe5a3d-776d-4e5a-b665-9d77ac531cca')\"\n",
              "              title=\"Convert this dataframe to an interactive table.\"\n",
              "              style=\"display:none;\">\n",
              "        \n",
              "  <svg xmlns=\"http://www.w3.org/2000/svg\" height=\"24px\"viewBox=\"0 0 24 24\"\n",
              "       width=\"24px\">\n",
              "    <path d=\"M0 0h24v24H0V0z\" fill=\"none\"/>\n",
              "    <path d=\"M18.56 5.44l.94 2.06.94-2.06 2.06-.94-2.06-.94-.94-2.06-.94 2.06-2.06.94zm-11 1L8.5 8.5l.94-2.06 2.06-.94-2.06-.94L8.5 2.5l-.94 2.06-2.06.94zm10 10l.94 2.06.94-2.06 2.06-.94-2.06-.94-.94-2.06-.94 2.06-2.06.94z\"/><path d=\"M17.41 7.96l-1.37-1.37c-.4-.4-.92-.59-1.43-.59-.52 0-1.04.2-1.43.59L10.3 9.45l-7.72 7.72c-.78.78-.78 2.05 0 2.83L4 21.41c.39.39.9.59 1.41.59.51 0 1.02-.2 1.41-.59l7.78-7.78 2.81-2.81c.8-.78.8-2.07 0-2.86zM5.41 20L4 18.59l7.72-7.72 1.47 1.35L5.41 20z\"/>\n",
              "  </svg>\n",
              "      </button>\n",
              "      \n",
              "  <style>\n",
              "    .colab-df-container {\n",
              "      display:flex;\n",
              "      flex-wrap:wrap;\n",
              "      gap: 12px;\n",
              "    }\n",
              "\n",
              "    .colab-df-convert {\n",
              "      background-color: #E8F0FE;\n",
              "      border: none;\n",
              "      border-radius: 50%;\n",
              "      cursor: pointer;\n",
              "      display: none;\n",
              "      fill: #1967D2;\n",
              "      height: 32px;\n",
              "      padding: 0 0 0 0;\n",
              "      width: 32px;\n",
              "    }\n",
              "\n",
              "    .colab-df-convert:hover {\n",
              "      background-color: #E2EBFA;\n",
              "      box-shadow: 0px 1px 2px rgba(60, 64, 67, 0.3), 0px 1px 3px 1px rgba(60, 64, 67, 0.15);\n",
              "      fill: #174EA6;\n",
              "    }\n",
              "\n",
              "    [theme=dark] .colab-df-convert {\n",
              "      background-color: #3B4455;\n",
              "      fill: #D2E3FC;\n",
              "    }\n",
              "\n",
              "    [theme=dark] .colab-df-convert:hover {\n",
              "      background-color: #434B5C;\n",
              "      box-shadow: 0px 1px 3px 1px rgba(0, 0, 0, 0.15);\n",
              "      filter: drop-shadow(0px 1px 2px rgba(0, 0, 0, 0.3));\n",
              "      fill: #FFFFFF;\n",
              "    }\n",
              "  </style>\n",
              "\n",
              "      <script>\n",
              "        const buttonEl =\n",
              "          document.querySelector('#df-39fe5a3d-776d-4e5a-b665-9d77ac531cca button.colab-df-convert');\n",
              "        buttonEl.style.display =\n",
              "          google.colab.kernel.accessAllowed ? 'block' : 'none';\n",
              "\n",
              "        async function convertToInteractive(key) {\n",
              "          const element = document.querySelector('#df-39fe5a3d-776d-4e5a-b665-9d77ac531cca');\n",
              "          const dataTable =\n",
              "            await google.colab.kernel.invokeFunction('convertToInteractive',\n",
              "                                                     [key], {});\n",
              "          if (!dataTable) return;\n",
              "\n",
              "          const docLinkHtml = 'Like what you see? Visit the ' +\n",
              "            '<a target=\"_blank\" href=https://colab.research.google.com/notebooks/data_table.ipynb>data table notebook</a>'\n",
              "            + ' to learn more about interactive tables.';\n",
              "          element.innerHTML = '';\n",
              "          dataTable['output_type'] = 'display_data';\n",
              "          await google.colab.output.renderOutput(dataTable, element);\n",
              "          const docLink = document.createElement('div');\n",
              "          docLink.innerHTML = docLinkHtml;\n",
              "          element.appendChild(docLink);\n",
              "        }\n",
              "      </script>\n",
              "    </div>\n",
              "  </div>\n",
              "  "
            ]
          },
          "metadata": {},
          "execution_count": 31
        }
      ]
    },
    {
      "cell_type": "code",
      "source": [
        "data.head()"
      ],
      "metadata": {
        "colab": {
          "base_uri": "https://localhost:8080/",
          "height": 738
        },
        "id": "jaBP5AsCk-Je",
        "outputId": "053541cc-bc29-4b88-89e0-6af46aeb8747"
      },
      "execution_count": null,
      "outputs": [
        {
          "output_type": "execute_result",
          "data": {
            "text/plain": [
              "                                       Hotel_Address  \\\n",
              "0   s Gravesandestraat 55 Oost 1092 AA Amsterdam ...   \n",
              "1   s Gravesandestraat 55 Oost 1092 AA Amsterdam ...   \n",
              "2   s Gravesandestraat 55 Oost 1092 AA Amsterdam ...   \n",
              "3   s Gravesandestraat 55 Oost 1092 AA Amsterdam ...   \n",
              "4   s Gravesandestraat 55 Oost 1092 AA Amsterdam ...   \n",
              "\n",
              "   Additional_Number_of_Scoring Review_Date  Average_Score   Hotel_Name  \\\n",
              "0                           194    8/3/2017            7.7  Hotel Arena   \n",
              "1                           194    8/3/2017            7.7  Hotel Arena   \n",
              "2                           194   7/31/2017            7.7  Hotel Arena   \n",
              "3                           194   7/31/2017            7.7  Hotel Arena   \n",
              "4                           194   7/24/2017            7.7  Hotel Arena   \n",
              "\n",
              "  Reviewer_Nationality                                    Negative_Review  \\\n",
              "0              Russia    I am so angry that i made this post available...   \n",
              "1             Ireland                                         No Negative   \n",
              "2           Australia    Rooms are nice but for elderly a bit difficul...   \n",
              "3      United Kingdom    My room was dirty and I was afraid to walk ba...   \n",
              "4         New Zealand    You When I booked with your company on line y...   \n",
              "\n",
              "   Review_Total_Negative_Word_Counts  Total_Number_of_Reviews  \\\n",
              "0                              397.0                   1403.0   \n",
              "1                                0.0                   1403.0   \n",
              "2                               42.0                   1403.0   \n",
              "3                              210.0                   1403.0   \n",
              "4                              140.0                   1403.0   \n",
              "\n",
              "                                     Positive_Review  \\\n",
              "0   Only the park outside of the hotel was beauti...   \n",
              "1   No real complaints the hotel was great great ...   \n",
              "2   Location was good and staff were ok It is cut...   \n",
              "3   Great location in nice surroundings the bar a...   \n",
              "4    Amazing location and building Romantic setting    \n",
              "\n",
              "   Review_Total_Positive_Word_Counts  \\\n",
              "0                               11.0   \n",
              "1                              105.0   \n",
              "2                               21.0   \n",
              "3                               26.0   \n",
              "4                                8.0   \n",
              "\n",
              "   Total_Number_of_Reviews_Reviewer_Has_Given  Reviewer_Score  \\\n",
              "0                                         7.0             2.9   \n",
              "1                                         7.0             7.5   \n",
              "2                                         9.0             7.1   \n",
              "3                                         1.0             3.8   \n",
              "4                                         3.0             6.7   \n",
              "\n",
              "                                                Tags days_since_review  \\\n",
              "0  [' Leisure trip ', ' Couple ', ' Duplex Double...            0 days   \n",
              "1  [' Leisure trip ', ' Couple ', ' Duplex Double...            0 days   \n",
              "2  [' Leisure trip ', ' Family with young childre...            3 days   \n",
              "3  [' Leisure trip ', ' Solo traveler ', ' Duplex...            3 days   \n",
              "4  [' Leisure trip ', ' Couple ', ' Suite ', ' St...           10 days   \n",
              "\n",
              "         lat       lng  \n",
              "0  52.360576  4.915968  \n",
              "1  52.360576  4.915968  \n",
              "2  52.360576  4.915968  \n",
              "3  52.360576  4.915968  \n",
              "4  52.360576  4.915968  "
            ],
            "text/html": [
              "\n",
              "  <div id=\"df-b161d7d6-28a2-4fa5-ba6c-42e68d214b53\">\n",
              "    <div class=\"colab-df-container\">\n",
              "      <div>\n",
              "<style scoped>\n",
              "    .dataframe tbody tr th:only-of-type {\n",
              "        vertical-align: middle;\n",
              "    }\n",
              "\n",
              "    .dataframe tbody tr th {\n",
              "        vertical-align: top;\n",
              "    }\n",
              "\n",
              "    .dataframe thead th {\n",
              "        text-align: right;\n",
              "    }\n",
              "</style>\n",
              "<table border=\"1\" class=\"dataframe\">\n",
              "  <thead>\n",
              "    <tr style=\"text-align: right;\">\n",
              "      <th></th>\n",
              "      <th>Hotel_Address</th>\n",
              "      <th>Additional_Number_of_Scoring</th>\n",
              "      <th>Review_Date</th>\n",
              "      <th>Average_Score</th>\n",
              "      <th>Hotel_Name</th>\n",
              "      <th>Reviewer_Nationality</th>\n",
              "      <th>Negative_Review</th>\n",
              "      <th>Review_Total_Negative_Word_Counts</th>\n",
              "      <th>Total_Number_of_Reviews</th>\n",
              "      <th>Positive_Review</th>\n",
              "      <th>Review_Total_Positive_Word_Counts</th>\n",
              "      <th>Total_Number_of_Reviews_Reviewer_Has_Given</th>\n",
              "      <th>Reviewer_Score</th>\n",
              "      <th>Tags</th>\n",
              "      <th>days_since_review</th>\n",
              "      <th>lat</th>\n",
              "      <th>lng</th>\n",
              "    </tr>\n",
              "  </thead>\n",
              "  <tbody>\n",
              "    <tr>\n",
              "      <th>0</th>\n",
              "      <td>s Gravesandestraat 55 Oost 1092 AA Amsterdam ...</td>\n",
              "      <td>194</td>\n",
              "      <td>8/3/2017</td>\n",
              "      <td>7.7</td>\n",
              "      <td>Hotel Arena</td>\n",
              "      <td>Russia</td>\n",
              "      <td>I am so angry that i made this post available...</td>\n",
              "      <td>397.0</td>\n",
              "      <td>1403.0</td>\n",
              "      <td>Only the park outside of the hotel was beauti...</td>\n",
              "      <td>11.0</td>\n",
              "      <td>7.0</td>\n",
              "      <td>2.9</td>\n",
              "      <td>[' Leisure trip ', ' Couple ', ' Duplex Double...</td>\n",
              "      <td>0 days</td>\n",
              "      <td>52.360576</td>\n",
              "      <td>4.915968</td>\n",
              "    </tr>\n",
              "    <tr>\n",
              "      <th>1</th>\n",
              "      <td>s Gravesandestraat 55 Oost 1092 AA Amsterdam ...</td>\n",
              "      <td>194</td>\n",
              "      <td>8/3/2017</td>\n",
              "      <td>7.7</td>\n",
              "      <td>Hotel Arena</td>\n",
              "      <td>Ireland</td>\n",
              "      <td>No Negative</td>\n",
              "      <td>0.0</td>\n",
              "      <td>1403.0</td>\n",
              "      <td>No real complaints the hotel was great great ...</td>\n",
              "      <td>105.0</td>\n",
              "      <td>7.0</td>\n",
              "      <td>7.5</td>\n",
              "      <td>[' Leisure trip ', ' Couple ', ' Duplex Double...</td>\n",
              "      <td>0 days</td>\n",
              "      <td>52.360576</td>\n",
              "      <td>4.915968</td>\n",
              "    </tr>\n",
              "    <tr>\n",
              "      <th>2</th>\n",
              "      <td>s Gravesandestraat 55 Oost 1092 AA Amsterdam ...</td>\n",
              "      <td>194</td>\n",
              "      <td>7/31/2017</td>\n",
              "      <td>7.7</td>\n",
              "      <td>Hotel Arena</td>\n",
              "      <td>Australia</td>\n",
              "      <td>Rooms are nice but for elderly a bit difficul...</td>\n",
              "      <td>42.0</td>\n",
              "      <td>1403.0</td>\n",
              "      <td>Location was good and staff were ok It is cut...</td>\n",
              "      <td>21.0</td>\n",
              "      <td>9.0</td>\n",
              "      <td>7.1</td>\n",
              "      <td>[' Leisure trip ', ' Family with young childre...</td>\n",
              "      <td>3 days</td>\n",
              "      <td>52.360576</td>\n",
              "      <td>4.915968</td>\n",
              "    </tr>\n",
              "    <tr>\n",
              "      <th>3</th>\n",
              "      <td>s Gravesandestraat 55 Oost 1092 AA Amsterdam ...</td>\n",
              "      <td>194</td>\n",
              "      <td>7/31/2017</td>\n",
              "      <td>7.7</td>\n",
              "      <td>Hotel Arena</td>\n",
              "      <td>United Kingdom</td>\n",
              "      <td>My room was dirty and I was afraid to walk ba...</td>\n",
              "      <td>210.0</td>\n",
              "      <td>1403.0</td>\n",
              "      <td>Great location in nice surroundings the bar a...</td>\n",
              "      <td>26.0</td>\n",
              "      <td>1.0</td>\n",
              "      <td>3.8</td>\n",
              "      <td>[' Leisure trip ', ' Solo traveler ', ' Duplex...</td>\n",
              "      <td>3 days</td>\n",
              "      <td>52.360576</td>\n",
              "      <td>4.915968</td>\n",
              "    </tr>\n",
              "    <tr>\n",
              "      <th>4</th>\n",
              "      <td>s Gravesandestraat 55 Oost 1092 AA Amsterdam ...</td>\n",
              "      <td>194</td>\n",
              "      <td>7/24/2017</td>\n",
              "      <td>7.7</td>\n",
              "      <td>Hotel Arena</td>\n",
              "      <td>New Zealand</td>\n",
              "      <td>You When I booked with your company on line y...</td>\n",
              "      <td>140.0</td>\n",
              "      <td>1403.0</td>\n",
              "      <td>Amazing location and building Romantic setting</td>\n",
              "      <td>8.0</td>\n",
              "      <td>3.0</td>\n",
              "      <td>6.7</td>\n",
              "      <td>[' Leisure trip ', ' Couple ', ' Suite ', ' St...</td>\n",
              "      <td>10 days</td>\n",
              "      <td>52.360576</td>\n",
              "      <td>4.915968</td>\n",
              "    </tr>\n",
              "  </tbody>\n",
              "</table>\n",
              "</div>\n",
              "      <button class=\"colab-df-convert\" onclick=\"convertToInteractive('df-b161d7d6-28a2-4fa5-ba6c-42e68d214b53')\"\n",
              "              title=\"Convert this dataframe to an interactive table.\"\n",
              "              style=\"display:none;\">\n",
              "        \n",
              "  <svg xmlns=\"http://www.w3.org/2000/svg\" height=\"24px\"viewBox=\"0 0 24 24\"\n",
              "       width=\"24px\">\n",
              "    <path d=\"M0 0h24v24H0V0z\" fill=\"none\"/>\n",
              "    <path d=\"M18.56 5.44l.94 2.06.94-2.06 2.06-.94-2.06-.94-.94-2.06-.94 2.06-2.06.94zm-11 1L8.5 8.5l.94-2.06 2.06-.94-2.06-.94L8.5 2.5l-.94 2.06-2.06.94zm10 10l.94 2.06.94-2.06 2.06-.94-2.06-.94-.94-2.06-.94 2.06-2.06.94z\"/><path d=\"M17.41 7.96l-1.37-1.37c-.4-.4-.92-.59-1.43-.59-.52 0-1.04.2-1.43.59L10.3 9.45l-7.72 7.72c-.78.78-.78 2.05 0 2.83L4 21.41c.39.39.9.59 1.41.59.51 0 1.02-.2 1.41-.59l7.78-7.78 2.81-2.81c.8-.78.8-2.07 0-2.86zM5.41 20L4 18.59l7.72-7.72 1.47 1.35L5.41 20z\"/>\n",
              "  </svg>\n",
              "      </button>\n",
              "      \n",
              "  <style>\n",
              "    .colab-df-container {\n",
              "      display:flex;\n",
              "      flex-wrap:wrap;\n",
              "      gap: 12px;\n",
              "    }\n",
              "\n",
              "    .colab-df-convert {\n",
              "      background-color: #E8F0FE;\n",
              "      border: none;\n",
              "      border-radius: 50%;\n",
              "      cursor: pointer;\n",
              "      display: none;\n",
              "      fill: #1967D2;\n",
              "      height: 32px;\n",
              "      padding: 0 0 0 0;\n",
              "      width: 32px;\n",
              "    }\n",
              "\n",
              "    .colab-df-convert:hover {\n",
              "      background-color: #E2EBFA;\n",
              "      box-shadow: 0px 1px 2px rgba(60, 64, 67, 0.3), 0px 1px 3px 1px rgba(60, 64, 67, 0.15);\n",
              "      fill: #174EA6;\n",
              "    }\n",
              "\n",
              "    [theme=dark] .colab-df-convert {\n",
              "      background-color: #3B4455;\n",
              "      fill: #D2E3FC;\n",
              "    }\n",
              "\n",
              "    [theme=dark] .colab-df-convert:hover {\n",
              "      background-color: #434B5C;\n",
              "      box-shadow: 0px 1px 3px 1px rgba(0, 0, 0, 0.15);\n",
              "      filter: drop-shadow(0px 1px 2px rgba(0, 0, 0, 0.3));\n",
              "      fill: #FFFFFF;\n",
              "    }\n",
              "  </style>\n",
              "\n",
              "      <script>\n",
              "        const buttonEl =\n",
              "          document.querySelector('#df-b161d7d6-28a2-4fa5-ba6c-42e68d214b53 button.colab-df-convert');\n",
              "        buttonEl.style.display =\n",
              "          google.colab.kernel.accessAllowed ? 'block' : 'none';\n",
              "\n",
              "        async function convertToInteractive(key) {\n",
              "          const element = document.querySelector('#df-b161d7d6-28a2-4fa5-ba6c-42e68d214b53');\n",
              "          const dataTable =\n",
              "            await google.colab.kernel.invokeFunction('convertToInteractive',\n",
              "                                                     [key], {});\n",
              "          if (!dataTable) return;\n",
              "\n",
              "          const docLinkHtml = 'Like what you see? Visit the ' +\n",
              "            '<a target=\"_blank\" href=https://colab.research.google.com/notebooks/data_table.ipynb>data table notebook</a>'\n",
              "            + ' to learn more about interactive tables.';\n",
              "          element.innerHTML = '';\n",
              "          dataTable['output_type'] = 'display_data';\n",
              "          await google.colab.output.renderOutput(dataTable, element);\n",
              "          const docLink = document.createElement('div');\n",
              "          docLink.innerHTML = docLinkHtml;\n",
              "          element.appendChild(docLink);\n",
              "        }\n",
              "      </script>\n",
              "    </div>\n",
              "  </div>\n",
              "  "
            ]
          },
          "metadata": {},
          "execution_count": 20
        }
      ]
    },
    {
      "cell_type": "code",
      "source": [
        "data.tail()"
      ],
      "metadata": {
        "colab": {
          "base_uri": "https://localhost:8080/",
          "height": 652
        },
        "id": "fTuYR0icqhEX",
        "outputId": "eb9856f4-30a3-4eec-86ae-6c5361e18c45"
      },
      "execution_count": null,
      "outputs": [
        {
          "output_type": "execute_result",
          "data": {
            "text/plain": [
              "                                            Hotel_Address  \\\n",
              "106258  214 rue du Faubourg Saint Honor 8th arr 75008 ...   \n",
              "106259  214 rue du Faubourg Saint Honor 8th arr 75008 ...   \n",
              "106260  214 rue du Faubourg Saint Honor 8th arr 75008 ...   \n",
              "106261  214 rue du Faubourg Saint Honor 8th arr 75008 ...   \n",
              "106262  214 rue du Faubourg Saint Honor 8th arr 75008 ...   \n",
              "\n",
              "        Additional_Number_of_Scoring Review_Date  Average_Score  \\\n",
              "106258                           105    6/7/2016            8.2   \n",
              "106259                           105    6/2/2016            8.2   \n",
              "106260                           105   5/31/2016            8.2   \n",
              "106261                           105   5/31/2016            8.2   \n",
              "106262                           105   5/26/2016            NaN   \n",
              "\n",
              "                                      Hotel_Name    Reviewer_Nationality  \\\n",
              "106258  H tel Etoile Saint Honor by Happyculture   United Arab Emirates    \n",
              "106259  H tel Etoile Saint Honor by Happyculture         United Kingdom    \n",
              "106260  H tel Etoile Saint Honor by Happyculture         United Kingdom    \n",
              "106261  H tel Etoile Saint Honor by Happyculture                  China    \n",
              "106262                                       NaN                     NaN   \n",
              "\n",
              "                                          Negative_Review  \\\n",
              "106258   Sometimes the room is a bit different than th...   \n",
              "106259                                        No Negative   \n",
              "106260   Our room was just not up to standard at all f...   \n",
              "106261   Check in time was 3pm but the room was not re...   \n",
              "106262                                                NaN   \n",
              "\n",
              "        Review_Total_Negative_Word_Counts  Total_Number_of_Reviews  \\\n",
              "106258                               35.0                    762.0   \n",
              "106259                                0.0                    762.0   \n",
              "106260                               58.0                    762.0   \n",
              "106261                               21.0                    762.0   \n",
              "106262                                NaN                      NaN   \n",
              "\n",
              "                                          Positive_Review  \\\n",
              "106258   The staff is very professional always availab...   \n",
              "106259   The rooms were big and comfortable staff were...   \n",
              "106260                   Good location and friendly staff   \n",
              "106261   Spacious room friendly and helpful staff loca...   \n",
              "106262                                                NaN   \n",
              "\n",
              "        Review_Total_Positive_Word_Counts  \\\n",
              "106258                               68.0   \n",
              "106259                               33.0   \n",
              "106260                                6.0   \n",
              "106261                               20.0   \n",
              "106262                                NaN   \n",
              "\n",
              "        Total_Number_of_Reviews_Reviewer_Has_Given  Reviewer_Score  \\\n",
              "106258                                         9.0             8.3   \n",
              "106259                                         1.0             9.2   \n",
              "106260                                         1.0             5.4   \n",
              "106261                                         4.0             9.2   \n",
              "106262                                         NaN             NaN   \n",
              "\n",
              "                                                     Tags days_since_review  \\\n",
              "106258  [' Business trip ', ' Solo traveler ', ' Class...           422 day   \n",
              "106259  [' Leisure trip ', ' Family with young childre...           427 day   \n",
              "106260  [' Leisure trip ', ' Couple ', ' Classic Doubl...           429 day   \n",
              "106261  [' Leisure trip ', ' Group ', ' Classic Double...           429 day   \n",
              "106262                                                NaN               NaN   \n",
              "\n",
              "              lat       lng  \n",
              "106258  48.875651  2.304157  \n",
              "106259  48.875651  2.304157  \n",
              "106260  48.875651  2.304157  \n",
              "106261  48.875651  2.304157  \n",
              "106262        NaN       NaN  "
            ],
            "text/html": [
              "\n",
              "  <div id=\"df-f4c469f8-2d6c-4aec-9945-fdef1341fe0d\">\n",
              "    <div class=\"colab-df-container\">\n",
              "      <div>\n",
              "<style scoped>\n",
              "    .dataframe tbody tr th:only-of-type {\n",
              "        vertical-align: middle;\n",
              "    }\n",
              "\n",
              "    .dataframe tbody tr th {\n",
              "        vertical-align: top;\n",
              "    }\n",
              "\n",
              "    .dataframe thead th {\n",
              "        text-align: right;\n",
              "    }\n",
              "</style>\n",
              "<table border=\"1\" class=\"dataframe\">\n",
              "  <thead>\n",
              "    <tr style=\"text-align: right;\">\n",
              "      <th></th>\n",
              "      <th>Hotel_Address</th>\n",
              "      <th>Additional_Number_of_Scoring</th>\n",
              "      <th>Review_Date</th>\n",
              "      <th>Average_Score</th>\n",
              "      <th>Hotel_Name</th>\n",
              "      <th>Reviewer_Nationality</th>\n",
              "      <th>Negative_Review</th>\n",
              "      <th>Review_Total_Negative_Word_Counts</th>\n",
              "      <th>Total_Number_of_Reviews</th>\n",
              "      <th>Positive_Review</th>\n",
              "      <th>Review_Total_Positive_Word_Counts</th>\n",
              "      <th>Total_Number_of_Reviews_Reviewer_Has_Given</th>\n",
              "      <th>Reviewer_Score</th>\n",
              "      <th>Tags</th>\n",
              "      <th>days_since_review</th>\n",
              "      <th>lat</th>\n",
              "      <th>lng</th>\n",
              "    </tr>\n",
              "  </thead>\n",
              "  <tbody>\n",
              "    <tr>\n",
              "      <th>106258</th>\n",
              "      <td>214 rue du Faubourg Saint Honor 8th arr 75008 ...</td>\n",
              "      <td>105</td>\n",
              "      <td>6/7/2016</td>\n",
              "      <td>8.2</td>\n",
              "      <td>H tel Etoile Saint Honor by Happyculture</td>\n",
              "      <td>United Arab Emirates</td>\n",
              "      <td>Sometimes the room is a bit different than th...</td>\n",
              "      <td>35.0</td>\n",
              "      <td>762.0</td>\n",
              "      <td>The staff is very professional always availab...</td>\n",
              "      <td>68.0</td>\n",
              "      <td>9.0</td>\n",
              "      <td>8.3</td>\n",
              "      <td>[' Business trip ', ' Solo traveler ', ' Class...</td>\n",
              "      <td>422 day</td>\n",
              "      <td>48.875651</td>\n",
              "      <td>2.304157</td>\n",
              "    </tr>\n",
              "    <tr>\n",
              "      <th>106259</th>\n",
              "      <td>214 rue du Faubourg Saint Honor 8th arr 75008 ...</td>\n",
              "      <td>105</td>\n",
              "      <td>6/2/2016</td>\n",
              "      <td>8.2</td>\n",
              "      <td>H tel Etoile Saint Honor by Happyculture</td>\n",
              "      <td>United Kingdom</td>\n",
              "      <td>No Negative</td>\n",
              "      <td>0.0</td>\n",
              "      <td>762.0</td>\n",
              "      <td>The rooms were big and comfortable staff were...</td>\n",
              "      <td>33.0</td>\n",
              "      <td>1.0</td>\n",
              "      <td>9.2</td>\n",
              "      <td>[' Leisure trip ', ' Family with young childre...</td>\n",
              "      <td>427 day</td>\n",
              "      <td>48.875651</td>\n",
              "      <td>2.304157</td>\n",
              "    </tr>\n",
              "    <tr>\n",
              "      <th>106260</th>\n",
              "      <td>214 rue du Faubourg Saint Honor 8th arr 75008 ...</td>\n",
              "      <td>105</td>\n",
              "      <td>5/31/2016</td>\n",
              "      <td>8.2</td>\n",
              "      <td>H tel Etoile Saint Honor by Happyculture</td>\n",
              "      <td>United Kingdom</td>\n",
              "      <td>Our room was just not up to standard at all f...</td>\n",
              "      <td>58.0</td>\n",
              "      <td>762.0</td>\n",
              "      <td>Good location and friendly staff</td>\n",
              "      <td>6.0</td>\n",
              "      <td>1.0</td>\n",
              "      <td>5.4</td>\n",
              "      <td>[' Leisure trip ', ' Couple ', ' Classic Doubl...</td>\n",
              "      <td>429 day</td>\n",
              "      <td>48.875651</td>\n",
              "      <td>2.304157</td>\n",
              "    </tr>\n",
              "    <tr>\n",
              "      <th>106261</th>\n",
              "      <td>214 rue du Faubourg Saint Honor 8th arr 75008 ...</td>\n",
              "      <td>105</td>\n",
              "      <td>5/31/2016</td>\n",
              "      <td>8.2</td>\n",
              "      <td>H tel Etoile Saint Honor by Happyculture</td>\n",
              "      <td>China</td>\n",
              "      <td>Check in time was 3pm but the room was not re...</td>\n",
              "      <td>21.0</td>\n",
              "      <td>762.0</td>\n",
              "      <td>Spacious room friendly and helpful staff loca...</td>\n",
              "      <td>20.0</td>\n",
              "      <td>4.0</td>\n",
              "      <td>9.2</td>\n",
              "      <td>[' Leisure trip ', ' Group ', ' Classic Double...</td>\n",
              "      <td>429 day</td>\n",
              "      <td>48.875651</td>\n",
              "      <td>2.304157</td>\n",
              "    </tr>\n",
              "    <tr>\n",
              "      <th>106262</th>\n",
              "      <td>214 rue du Faubourg Saint Honor 8th arr 75008 ...</td>\n",
              "      <td>105</td>\n",
              "      <td>5/26/2016</td>\n",
              "      <td>NaN</td>\n",
              "      <td>NaN</td>\n",
              "      <td>NaN</td>\n",
              "      <td>NaN</td>\n",
              "      <td>NaN</td>\n",
              "      <td>NaN</td>\n",
              "      <td>NaN</td>\n",
              "      <td>NaN</td>\n",
              "      <td>NaN</td>\n",
              "      <td>NaN</td>\n",
              "      <td>NaN</td>\n",
              "      <td>NaN</td>\n",
              "      <td>NaN</td>\n",
              "      <td>NaN</td>\n",
              "    </tr>\n",
              "  </tbody>\n",
              "</table>\n",
              "</div>\n",
              "      <button class=\"colab-df-convert\" onclick=\"convertToInteractive('df-f4c469f8-2d6c-4aec-9945-fdef1341fe0d')\"\n",
              "              title=\"Convert this dataframe to an interactive table.\"\n",
              "              style=\"display:none;\">\n",
              "        \n",
              "  <svg xmlns=\"http://www.w3.org/2000/svg\" height=\"24px\"viewBox=\"0 0 24 24\"\n",
              "       width=\"24px\">\n",
              "    <path d=\"M0 0h24v24H0V0z\" fill=\"none\"/>\n",
              "    <path d=\"M18.56 5.44l.94 2.06.94-2.06 2.06-.94-2.06-.94-.94-2.06-.94 2.06-2.06.94zm-11 1L8.5 8.5l.94-2.06 2.06-.94-2.06-.94L8.5 2.5l-.94 2.06-2.06.94zm10 10l.94 2.06.94-2.06 2.06-.94-2.06-.94-.94-2.06-.94 2.06-2.06.94z\"/><path d=\"M17.41 7.96l-1.37-1.37c-.4-.4-.92-.59-1.43-.59-.52 0-1.04.2-1.43.59L10.3 9.45l-7.72 7.72c-.78.78-.78 2.05 0 2.83L4 21.41c.39.39.9.59 1.41.59.51 0 1.02-.2 1.41-.59l7.78-7.78 2.81-2.81c.8-.78.8-2.07 0-2.86zM5.41 20L4 18.59l7.72-7.72 1.47 1.35L5.41 20z\"/>\n",
              "  </svg>\n",
              "      </button>\n",
              "      \n",
              "  <style>\n",
              "    .colab-df-container {\n",
              "      display:flex;\n",
              "      flex-wrap:wrap;\n",
              "      gap: 12px;\n",
              "    }\n",
              "\n",
              "    .colab-df-convert {\n",
              "      background-color: #E8F0FE;\n",
              "      border: none;\n",
              "      border-radius: 50%;\n",
              "      cursor: pointer;\n",
              "      display: none;\n",
              "      fill: #1967D2;\n",
              "      height: 32px;\n",
              "      padding: 0 0 0 0;\n",
              "      width: 32px;\n",
              "    }\n",
              "\n",
              "    .colab-df-convert:hover {\n",
              "      background-color: #E2EBFA;\n",
              "      box-shadow: 0px 1px 2px rgba(60, 64, 67, 0.3), 0px 1px 3px 1px rgba(60, 64, 67, 0.15);\n",
              "      fill: #174EA6;\n",
              "    }\n",
              "\n",
              "    [theme=dark] .colab-df-convert {\n",
              "      background-color: #3B4455;\n",
              "      fill: #D2E3FC;\n",
              "    }\n",
              "\n",
              "    [theme=dark] .colab-df-convert:hover {\n",
              "      background-color: #434B5C;\n",
              "      box-shadow: 0px 1px 3px 1px rgba(0, 0, 0, 0.15);\n",
              "      filter: drop-shadow(0px 1px 2px rgba(0, 0, 0, 0.3));\n",
              "      fill: #FFFFFF;\n",
              "    }\n",
              "  </style>\n",
              "\n",
              "      <script>\n",
              "        const buttonEl =\n",
              "          document.querySelector('#df-f4c469f8-2d6c-4aec-9945-fdef1341fe0d button.colab-df-convert');\n",
              "        buttonEl.style.display =\n",
              "          google.colab.kernel.accessAllowed ? 'block' : 'none';\n",
              "\n",
              "        async function convertToInteractive(key) {\n",
              "          const element = document.querySelector('#df-f4c469f8-2d6c-4aec-9945-fdef1341fe0d');\n",
              "          const dataTable =\n",
              "            await google.colab.kernel.invokeFunction('convertToInteractive',\n",
              "                                                     [key], {});\n",
              "          if (!dataTable) return;\n",
              "\n",
              "          const docLinkHtml = 'Like what you see? Visit the ' +\n",
              "            '<a target=\"_blank\" href=https://colab.research.google.com/notebooks/data_table.ipynb>data table notebook</a>'\n",
              "            + ' to learn more about interactive tables.';\n",
              "          element.innerHTML = '';\n",
              "          dataTable['output_type'] = 'display_data';\n",
              "          await google.colab.output.renderOutput(dataTable, element);\n",
              "          const docLink = document.createElement('div');\n",
              "          docLink.innerHTML = docLinkHtml;\n",
              "          element.appendChild(docLink);\n",
              "        }\n",
              "      </script>\n",
              "    </div>\n",
              "  </div>\n",
              "  "
            ]
          },
          "metadata": {},
          "execution_count": 21
        }
      ]
    },
    {
      "cell_type": "code",
      "source": [
        "#EDA\n",
        "print(data.shape)"
      ],
      "metadata": {
        "colab": {
          "base_uri": "https://localhost:8080/"
        },
        "id": "plxJMPfcqlD6",
        "outputId": "aae3aa16-bc14-4dda-cb33-81a9c64af13a"
      },
      "execution_count": null,
      "outputs": [
        {
          "output_type": "stream",
          "name": "stdout",
          "text": [
            "(26844, 17)\n"
          ]
        }
      ]
    },
    {
      "cell_type": "code",
      "source": [
        "data.values"
      ],
      "metadata": {
        "colab": {
          "base_uri": "https://localhost:8080/"
        },
        "id": "PvuSFeo6rNaQ",
        "outputId": "32b49eb3-6122-4829-b402-ff3517186b1b"
      },
      "execution_count": null,
      "outputs": [
        {
          "output_type": "execute_result",
          "data": {
            "text/plain": [
              "array([[' s Gravesandestraat 55 Oost 1092 AA Amsterdam Netherlands',\n",
              "        194.0, '8/3/2017', ..., '0 days', 52.3605759, 4.9159683],\n",
              "       [' s Gravesandestraat 55 Oost 1092 AA Amsterdam Netherlands',\n",
              "        194.0, '8/3/2017', ..., '0 days', 52.3605759, 4.9159683],\n",
              "       [' s Gravesandestraat 55 Oost 1092 AA Amsterdam Netherlands',\n",
              "        194.0, '7/31/2017', ..., '3 days', 52.3605759, 4.9159683],\n",
              "       ...,\n",
              "       ['101 Buckingham Palace Road Westminster Borough London SW1W 0SJ United Kingdom',\n",
              "        838.0, '2/15/2016', ..., '535 day', 51.4956657, -0.1452793],\n",
              "       ['101 Buckingham Palace Road Westminster Borough London SW1W 0SJ United Kingdom',\n",
              "        838.0, '2/10/2016', ..., '540 day', 51.4956657, -0.1452793],\n",
              "       ['101 Buckingh', nan, nan, ..., nan, nan, nan]], dtype=object)"
            ]
          },
          "metadata": {},
          "execution_count": 6
        }
      ]
    },
    {
      "cell_type": "code",
      "source": [
        "#summary\n",
        "data.describe()"
      ],
      "metadata": {
        "id": "e1L9Q8hirioC",
        "colab": {
          "base_uri": "https://localhost:8080/",
          "height": 364
        },
        "outputId": "30488a91-9c12-46f6-e8cd-771699dbecad"
      },
      "execution_count": null,
      "outputs": [
        {
          "output_type": "execute_result",
          "data": {
            "text/plain": [
              "       Additional_Number_of_Scoring  Average_Score  \\\n",
              "count                 106263.000000  106262.000000   \n",
              "mean                     590.360097       8.378795   \n",
              "std                      594.502744       0.599720   \n",
              "min                        4.000000       6.800000   \n",
              "25%                      194.000000       8.000000   \n",
              "50%                      421.000000       8.400000   \n",
              "75%                      740.000000       8.900000   \n",
              "max                     2682.000000       9.800000   \n",
              "\n",
              "       Review_Total_Negative_Word_Counts  Total_Number_of_Reviews  \\\n",
              "count                      106262.000000            106262.000000   \n",
              "mean                           18.566524              2525.181372   \n",
              "std                            29.405561              2106.615708   \n",
              "min                             0.000000                45.000000   \n",
              "25%                             2.000000              1011.000000   \n",
              "50%                             9.000000              2061.000000   \n",
              "75%                            24.000000              3150.000000   \n",
              "max                           401.000000              9086.000000   \n",
              "\n",
              "       Review_Total_Positive_Word_Counts  \\\n",
              "count                      106262.000000   \n",
              "mean                           17.267019   \n",
              "std                            20.961993   \n",
              "min                             0.000000   \n",
              "25%                             5.000000   \n",
              "50%                            11.000000   \n",
              "75%                            22.000000   \n",
              "max                           383.000000   \n",
              "\n",
              "       Total_Number_of_Reviews_Reviewer_Has_Given  Reviewer_Score  \\\n",
              "count                               106262.000000   106262.000000   \n",
              "mean                                     6.630122        8.369759   \n",
              "std                                     10.376813        1.668356   \n",
              "min                                      1.000000        2.500000   \n",
              "25%                                      1.000000        7.500000   \n",
              "50%                                      3.000000        8.800000   \n",
              "75%                                      8.000000        9.600000   \n",
              "max                                    315.000000       10.000000   \n",
              "\n",
              "                 lat            lng  \n",
              "count  106225.000000  106225.000000  \n",
              "mean       50.928409       0.429168  \n",
              "std         1.101346       1.059976  \n",
              "min        48.817808      -0.319292  \n",
              "25%        51.491374      -0.170292  \n",
              "50%        51.502435      -0.122032  \n",
              "75%        51.514707      -0.007271  \n",
              "max        52.360576       4.915968  "
            ],
            "text/html": [
              "\n",
              "  <div id=\"df-a64a5667-f576-4658-90b7-a1a29a0e20b3\">\n",
              "    <div class=\"colab-df-container\">\n",
              "      <div>\n",
              "<style scoped>\n",
              "    .dataframe tbody tr th:only-of-type {\n",
              "        vertical-align: middle;\n",
              "    }\n",
              "\n",
              "    .dataframe tbody tr th {\n",
              "        vertical-align: top;\n",
              "    }\n",
              "\n",
              "    .dataframe thead th {\n",
              "        text-align: right;\n",
              "    }\n",
              "</style>\n",
              "<table border=\"1\" class=\"dataframe\">\n",
              "  <thead>\n",
              "    <tr style=\"text-align: right;\">\n",
              "      <th></th>\n",
              "      <th>Additional_Number_of_Scoring</th>\n",
              "      <th>Average_Score</th>\n",
              "      <th>Review_Total_Negative_Word_Counts</th>\n",
              "      <th>Total_Number_of_Reviews</th>\n",
              "      <th>Review_Total_Positive_Word_Counts</th>\n",
              "      <th>Total_Number_of_Reviews_Reviewer_Has_Given</th>\n",
              "      <th>Reviewer_Score</th>\n",
              "      <th>lat</th>\n",
              "      <th>lng</th>\n",
              "    </tr>\n",
              "  </thead>\n",
              "  <tbody>\n",
              "    <tr>\n",
              "      <th>count</th>\n",
              "      <td>106263.000000</td>\n",
              "      <td>106262.000000</td>\n",
              "      <td>106262.000000</td>\n",
              "      <td>106262.000000</td>\n",
              "      <td>106262.000000</td>\n",
              "      <td>106262.000000</td>\n",
              "      <td>106262.000000</td>\n",
              "      <td>106225.000000</td>\n",
              "      <td>106225.000000</td>\n",
              "    </tr>\n",
              "    <tr>\n",
              "      <th>mean</th>\n",
              "      <td>590.360097</td>\n",
              "      <td>8.378795</td>\n",
              "      <td>18.566524</td>\n",
              "      <td>2525.181372</td>\n",
              "      <td>17.267019</td>\n",
              "      <td>6.630122</td>\n",
              "      <td>8.369759</td>\n",
              "      <td>50.928409</td>\n",
              "      <td>0.429168</td>\n",
              "    </tr>\n",
              "    <tr>\n",
              "      <th>std</th>\n",
              "      <td>594.502744</td>\n",
              "      <td>0.599720</td>\n",
              "      <td>29.405561</td>\n",
              "      <td>2106.615708</td>\n",
              "      <td>20.961993</td>\n",
              "      <td>10.376813</td>\n",
              "      <td>1.668356</td>\n",
              "      <td>1.101346</td>\n",
              "      <td>1.059976</td>\n",
              "    </tr>\n",
              "    <tr>\n",
              "      <th>min</th>\n",
              "      <td>4.000000</td>\n",
              "      <td>6.800000</td>\n",
              "      <td>0.000000</td>\n",
              "      <td>45.000000</td>\n",
              "      <td>0.000000</td>\n",
              "      <td>1.000000</td>\n",
              "      <td>2.500000</td>\n",
              "      <td>48.817808</td>\n",
              "      <td>-0.319292</td>\n",
              "    </tr>\n",
              "    <tr>\n",
              "      <th>25%</th>\n",
              "      <td>194.000000</td>\n",
              "      <td>8.000000</td>\n",
              "      <td>2.000000</td>\n",
              "      <td>1011.000000</td>\n",
              "      <td>5.000000</td>\n",
              "      <td>1.000000</td>\n",
              "      <td>7.500000</td>\n",
              "      <td>51.491374</td>\n",
              "      <td>-0.170292</td>\n",
              "    </tr>\n",
              "    <tr>\n",
              "      <th>50%</th>\n",
              "      <td>421.000000</td>\n",
              "      <td>8.400000</td>\n",
              "      <td>9.000000</td>\n",
              "      <td>2061.000000</td>\n",
              "      <td>11.000000</td>\n",
              "      <td>3.000000</td>\n",
              "      <td>8.800000</td>\n",
              "      <td>51.502435</td>\n",
              "      <td>-0.122032</td>\n",
              "    </tr>\n",
              "    <tr>\n",
              "      <th>75%</th>\n",
              "      <td>740.000000</td>\n",
              "      <td>8.900000</td>\n",
              "      <td>24.000000</td>\n",
              "      <td>3150.000000</td>\n",
              "      <td>22.000000</td>\n",
              "      <td>8.000000</td>\n",
              "      <td>9.600000</td>\n",
              "      <td>51.514707</td>\n",
              "      <td>-0.007271</td>\n",
              "    </tr>\n",
              "    <tr>\n",
              "      <th>max</th>\n",
              "      <td>2682.000000</td>\n",
              "      <td>9.800000</td>\n",
              "      <td>401.000000</td>\n",
              "      <td>9086.000000</td>\n",
              "      <td>383.000000</td>\n",
              "      <td>315.000000</td>\n",
              "      <td>10.000000</td>\n",
              "      <td>52.360576</td>\n",
              "      <td>4.915968</td>\n",
              "    </tr>\n",
              "  </tbody>\n",
              "</table>\n",
              "</div>\n",
              "      <button class=\"colab-df-convert\" onclick=\"convertToInteractive('df-a64a5667-f576-4658-90b7-a1a29a0e20b3')\"\n",
              "              title=\"Convert this dataframe to an interactive table.\"\n",
              "              style=\"display:none;\">\n",
              "        \n",
              "  <svg xmlns=\"http://www.w3.org/2000/svg\" height=\"24px\"viewBox=\"0 0 24 24\"\n",
              "       width=\"24px\">\n",
              "    <path d=\"M0 0h24v24H0V0z\" fill=\"none\"/>\n",
              "    <path d=\"M18.56 5.44l.94 2.06.94-2.06 2.06-.94-2.06-.94-.94-2.06-.94 2.06-2.06.94zm-11 1L8.5 8.5l.94-2.06 2.06-.94-2.06-.94L8.5 2.5l-.94 2.06-2.06.94zm10 10l.94 2.06.94-2.06 2.06-.94-2.06-.94-.94-2.06-.94 2.06-2.06.94z\"/><path d=\"M17.41 7.96l-1.37-1.37c-.4-.4-.92-.59-1.43-.59-.52 0-1.04.2-1.43.59L10.3 9.45l-7.72 7.72c-.78.78-.78 2.05 0 2.83L4 21.41c.39.39.9.59 1.41.59.51 0 1.02-.2 1.41-.59l7.78-7.78 2.81-2.81c.8-.78.8-2.07 0-2.86zM5.41 20L4 18.59l7.72-7.72 1.47 1.35L5.41 20z\"/>\n",
              "  </svg>\n",
              "      </button>\n",
              "      \n",
              "  <style>\n",
              "    .colab-df-container {\n",
              "      display:flex;\n",
              "      flex-wrap:wrap;\n",
              "      gap: 12px;\n",
              "    }\n",
              "\n",
              "    .colab-df-convert {\n",
              "      background-color: #E8F0FE;\n",
              "      border: none;\n",
              "      border-radius: 50%;\n",
              "      cursor: pointer;\n",
              "      display: none;\n",
              "      fill: #1967D2;\n",
              "      height: 32px;\n",
              "      padding: 0 0 0 0;\n",
              "      width: 32px;\n",
              "    }\n",
              "\n",
              "    .colab-df-convert:hover {\n",
              "      background-color: #E2EBFA;\n",
              "      box-shadow: 0px 1px 2px rgba(60, 64, 67, 0.3), 0px 1px 3px 1px rgba(60, 64, 67, 0.15);\n",
              "      fill: #174EA6;\n",
              "    }\n",
              "\n",
              "    [theme=dark] .colab-df-convert {\n",
              "      background-color: #3B4455;\n",
              "      fill: #D2E3FC;\n",
              "    }\n",
              "\n",
              "    [theme=dark] .colab-df-convert:hover {\n",
              "      background-color: #434B5C;\n",
              "      box-shadow: 0px 1px 3px 1px rgba(0, 0, 0, 0.15);\n",
              "      filter: drop-shadow(0px 1px 2px rgba(0, 0, 0, 0.3));\n",
              "      fill: #FFFFFF;\n",
              "    }\n",
              "  </style>\n",
              "\n",
              "      <script>\n",
              "        const buttonEl =\n",
              "          document.querySelector('#df-a64a5667-f576-4658-90b7-a1a29a0e20b3 button.colab-df-convert');\n",
              "        buttonEl.style.display =\n",
              "          google.colab.kernel.accessAllowed ? 'block' : 'none';\n",
              "\n",
              "        async function convertToInteractive(key) {\n",
              "          const element = document.querySelector('#df-a64a5667-f576-4658-90b7-a1a29a0e20b3');\n",
              "          const dataTable =\n",
              "            await google.colab.kernel.invokeFunction('convertToInteractive',\n",
              "                                                     [key], {});\n",
              "          if (!dataTable) return;\n",
              "\n",
              "          const docLinkHtml = 'Like what you see? Visit the ' +\n",
              "            '<a target=\"_blank\" href=https://colab.research.google.com/notebooks/data_table.ipynb>data table notebook</a>'\n",
              "            + ' to learn more about interactive tables.';\n",
              "          element.innerHTML = '';\n",
              "          dataTable['output_type'] = 'display_data';\n",
              "          await google.colab.output.renderOutput(dataTable, element);\n",
              "          const docLink = document.createElement('div');\n",
              "          docLink.innerHTML = docLinkHtml;\n",
              "          element.appendChild(docLink);\n",
              "        }\n",
              "      </script>\n",
              "    </div>\n",
              "  </div>\n",
              "  "
            ]
          },
          "metadata": {},
          "execution_count": 22
        }
      ]
    },
    {
      "cell_type": "code",
      "source": [
        "#null values\n",
        "print(data.isnull().sum())"
      ],
      "metadata": {
        "colab": {
          "base_uri": "https://localhost:8080/"
        },
        "id": "NTa8d8ahJwG7",
        "outputId": "c8094f28-a005-4ba8-f7f1-b006ba402ab8"
      },
      "execution_count": null,
      "outputs": [
        {
          "output_type": "stream",
          "name": "stdout",
          "text": [
            "Hotel_Address                                   0\n",
            "Additional_Number_of_Scoring                    1\n",
            "Review_Date                                     1\n",
            "Average_Score                                   1\n",
            "Hotel_Name                                      1\n",
            "Reviewer_Nationality                            1\n",
            "Negative_Review                                 1\n",
            "Review_Total_Negative_Word_Counts               1\n",
            "Total_Number_of_Reviews                         1\n",
            "Positive_Review                                 1\n",
            "Review_Total_Positive_Word_Counts               1\n",
            "Total_Number_of_Reviews_Reviewer_Has_Given      1\n",
            "Reviewer_Score                                  1\n",
            "Tags                                            1\n",
            "days_since_review                               1\n",
            "lat                                           383\n",
            "lng                                           383\n",
            "dtype: int64\n"
          ]
        }
      ]
    },
    {
      "cell_type": "code",
      "source": [
        "#droping lat and lng\n",
        "data=data.dropna()"
      ],
      "metadata": {
        "id": "_60P7E8WKe5F"
      },
      "execution_count": null,
      "outputs": []
    },
    {
      "cell_type": "code",
      "source": [
        "#count of nationality\n",
        "reviewer_nationality = data['Reviewer_Nationality'].value_counts()\n",
        "print(reviewer_nationality)"
      ],
      "metadata": {
        "colab": {
          "base_uri": "https://localhost:8080/"
        },
        "id": "qBLDFz-dK5NE",
        "outputId": "8718eb4a-e75f-488b-f05c-49b88c62a7e6"
      },
      "execution_count": null,
      "outputs": [
        {
          "output_type": "stream",
          "name": "stdout",
          "text": [
            " United Kingdom               59466\n",
            " United States of America      6809\n",
            " Australia                     4604\n",
            " Ireland                       2677\n",
            " United Arab Emirates          1964\n",
            "                              ...  \n",
            " U S Virgin Islands               1\n",
            " Burundi                          1\n",
            " Comoros                          1\n",
            " Equatorial Guinea                1\n",
            " Bolivia                          1\n",
            "Name: Reviewer_Nationality, Length: 198, dtype: int64\n"
          ]
        }
      ]
    },
    {
      "cell_type": "code",
      "source": [
        "# Plot the distribution of Average_Score\n",
        "plt.hist(data['Average_Score'])\n",
        "plt.xlabel('Average Score')\n",
        "plt.ylabel('Frequency')\n",
        "plt.title('Distribution of Average Score')\n",
        "plt.show()\n"
      ],
      "metadata": {
        "colab": {
          "base_uri": "https://localhost:8080/",
          "height": 295
        },
        "id": "VmV1He3R3rd0",
        "outputId": "d76d98a1-382a-406b-d504-cbf42c20c735"
      },
      "execution_count": null,
      "outputs": [
        {
          "output_type": "display_data",
          "data": {
            "text/plain": [
              "<Figure size 432x288 with 1 Axes>"
            ],
            "image/png": "[encoded data removed]"
          },
          "metadata": {
            "needs_background": "light"
          }
        }
      ]
    },
    {
      "cell_type": "code",
      "source": [
        "# Plot the distribution of Reviewer_Score\n",
        "plt.hist(data['Reviewer_Score'])\n",
        "plt.xlabel('Reviewer Score')\n",
        "plt.ylabel('Frequency')\n",
        "plt.title('Distribution of Reviewer Score')\n",
        "plt.show()\n",
        "\n"
      ],
      "metadata": {
        "colab": {
          "base_uri": "https://localhost:8080/",
          "height": 295
        },
        "id": "12RBGX9c3wKT",
        "outputId": "532a7484-f89b-4b01-b7cf-40c192649d3c"
      },
      "execution_count": null,
      "outputs": [
        {
          "output_type": "display_data",
          "data": {
            "text/plain": [
              "<Figure size 432x288 with 1 Axes>"
            ],
            "image/png": "[encoded data removed]"
          },
          "metadata": {
            "needs_background": "light"
          }
        }
      ]
    },
    {
      "cell_type": "code",
      "source": [
        "# Plot the distribution of Review_Total_Negative_Word_Counts\n",
        "plt.hist(data['Review_Total_Negative_Word_Counts'])\n",
        "plt.xlabel('Review Total Negative Word Counts')\n",
        "plt.ylabel('Frequency')\n",
        "plt.title('Distribution of Review Total Negative Word Counts')\n",
        "plt.show()\n"
      ],
      "metadata": {
        "colab": {
          "base_uri": "https://localhost:8080/",
          "height": 295
        },
        "id": "iXqfALxV33eJ",
        "outputId": "d19ccf4e-8841-4178-9b82-d8acda0c3577"
      },
      "execution_count": null,
      "outputs": [
        {
          "output_type": "display_data",
          "data": {
            "text/plain": [
              "<Figure size 432x288 with 1 Axes>"
            ],
            "image/png": "[encoded data removed]"
          },
          "metadata": {
            "needs_background": "light"
          }
        }
      ]
    },
    {
      "cell_type": "code",
      "source": [
        "# Plot the distribution of Review_Total_Positive_Word_Counts\n",
        "plt.hist(data['Review_Total_Positive_Word_Counts'])\n",
        "plt.xlabel('Review Total Positive Word Counts')\n",
        "plt.ylabel('Frequency')\n",
        "plt.title('Distribution of Review Total Positive Word Counts')\n",
        "plt.show()\n",
        "\n"
      ],
      "metadata": {
        "colab": {
          "base_uri": "https://localhost:8080/",
          "height": 295
        },
        "id": "twlr0W5-39cT",
        "outputId": "ed8021c6-4910-4bb2-ff79-a77a40c2b776"
      },
      "execution_count": null,
      "outputs": [
        {
          "output_type": "display_data",
          "data": {
            "text/plain": [
              "<Figure size 432x288 with 1 Axes>"
            ],
            "image/png": "[encoded data removed]"
          },
          "metadata": {
            "needs_background": "light"
          }
        }
      ]
    },
    {
      "cell_type": "code",
      "source": [
        "#Plotting the distribution of days_since_review\n",
        "plt.hist(data['days_since_review'])\n",
        "plt.xlabel('days_since_review')\n",
        "plt.ylabel('Frequency')\n",
        "plt.title('Distribution of days_since_review')\n",
        "plt.show()\n"
      ],
      "metadata": {
        "colab": {
          "base_uri": "https://localhost:8080/",
          "height": 296
        },
        "id": "skziRgLY4BWG",
        "outputId": "7185b394-09f3-44e8-d5d6-46a18702ae1a"
      },
      "execution_count": null,
      "outputs": [
        {
          "output_type": "display_data",
          "data": {
            "text/plain": [
              "<Figure size 432x288 with 1 Axes>"
            ],
            "image/png": "[encoded data removed]"
          },
          "metadata": {
            "needs_background": "light"
          }
        }
      ]
    },
    {
      "cell_type": "code",
      "source": [
        "from sklearn import svm\n",
        "\n",
        "from sklearn.linear_model import LogisticRegression\n",
        "from sklearn.model_selection import train_test_split\n",
        "from sklearn import metrics\n",
        "\n"
      ],
      "metadata": {
        "id": "mG73CykLLcoP"
      },
      "execution_count": null,
      "outputs": []
    },
    {
      "cell_type": "code",
      "source": [
        "data['Target'] = np.where(data['Average_Score']>=7, 1, 0)\n"
      ],
      "metadata": {
        "id": "RETj0akULGET"
      },
      "execution_count": null,
      "outputs": []
    },
    {
      "cell_type": "code",
      "source": [
        "X = data[['Additional_Number_of_Scoring','Review_Total_Negative_Word_Counts', 'Review_Total_Positive_Word_Counts']]\n",
        "\n"
      ],
      "metadata": {
        "id": "BKPUqvVLLvRf"
      },
      "execution_count": null,
      "outputs": []
    },
    {
      "cell_type": "code",
      "source": [
        "y = data['Target']"
      ],
      "metadata": {
        "id": "7A6ZITDFLzWT"
      },
      "execution_count": null,
      "outputs": []
    },
    {
      "cell_type": "code",
      "source": [
        "X_train, X_test, y_train, y_test = train_test_split(X, y, test_size=0.3, random_state=0)\n",
        "\n"
      ],
      "metadata": {
        "id": "QulJe_8WL2Vc"
      },
      "execution_count": null,
      "outputs": []
    },
    {
      "cell_type": "code",
      "source": [
        " X_train.shape"
      ],
      "metadata": {
        "colab": {
          "base_uri": "https://localhost:8080/"
        },
        "id": "4ej2Lp6pL4xZ",
        "outputId": "1e33007e-9bff-4c50-f8bb-77e0b60e77cc"
      },
      "execution_count": null,
      "outputs": [
        {
          "output_type": "execute_result",
          "data": {
            "text/plain": [
              "(145427, 3)"
            ]
          },
          "metadata": {},
          "execution_count": 51
        }
      ]
    },
    {
      "cell_type": "code",
      "source": [
        "y_test.shape"
      ],
      "metadata": {
        "colab": {
          "base_uri": "https://localhost:8080/"
        },
        "id": "S24xV3x6NLKL",
        "outputId": "bc9109d0-7e4a-441e-827a-c219c64d566e"
      },
      "execution_count": null,
      "outputs": [
        {
          "output_type": "execute_result",
          "data": {
            "text/plain": [
              "(62327,)"
            ]
          },
          "metadata": {},
          "execution_count": 52
        }
      ]
    },
    {
      "cell_type": "code",
      "source": [
        "y_train.shape"
      ],
      "metadata": {
        "colab": {
          "base_uri": "https://localhost:8080/"
        },
        "id": "lqmCKjLpNOcX",
        "outputId": "519d1389-7da4-4434-e9df-b659cc7b3719"
      },
      "execution_count": null,
      "outputs": [
        {
          "output_type": "execute_result",
          "data": {
            "text/plain": [
              "(145427,)"
            ]
          },
          "metadata": {},
          "execution_count": 53
        }
      ]
    },
    {
      "cell_type": "code",
      "source": [
        "X_test.shape"
      ],
      "metadata": {
        "colab": {
          "base_uri": "https://localhost:8080/"
        },
        "id": "T2IdCY51NWIV",
        "outputId": "f827ebfd-8ded-4274-d3eb-ad6f8a3bfd92"
      },
      "execution_count": null,
      "outputs": [
        {
          "output_type": "execute_result",
          "data": {
            "text/plain": [
              "(62327, 3)"
            ]
          },
          "metadata": {},
          "execution_count": 54
        }
      ]
    },
    {
      "cell_type": "code",
      "source": [],
      "metadata": {
        "id": "KBbpSR4MOu5y"
      },
      "execution_count": null,
      "outputs": []
    },
    {
      "cell_type": "code",
      "source": [
        "log_reg = LogisticRegression()\n"
      ],
      "metadata": {
        "id": "q49yJ5wuYH5b"
      },
      "execution_count": null,
      "outputs": []
    },
    {
      "cell_type": "code",
      "source": [
        "log_reg.fit(X_train, y_train)"
      ],
      "metadata": {
        "colab": {
          "base_uri": "https://localhost:8080/"
        },
        "id": "6Su6m62CYTIp",
        "outputId": "68565a71-7810-4471-c5dc-e469a29c86b3"
      },
      "execution_count": null,
      "outputs": [
        {
          "output_type": "execute_result",
          "data": {
            "text/plain": [
              "LogisticRegression()"
            ]
          },
          "metadata": {},
          "execution_count": 97
        }
      ]
    },
    {
      "cell_type": "code",
      "source": [
        "y_pred = log_reg.predict(X_test)\n"
      ],
      "metadata": {
        "id": "m8B9_IEfYXH1"
      },
      "execution_count": null,
      "outputs": []
    },
    {
      "cell_type": "code",
      "source": [
        "accuracy = metrics.accuracy_score(y_test, y_pred)\n",
        "print(\"Accuracy: \", accuracy)\n",
        "\n"
      ],
      "metadata": {
        "colab": {
          "base_uri": "https://localhost:8080/"
        },
        "id": "xNCfIJ5zYgke",
        "outputId": "afd419de-634b-4c72-a2be-8ed2b5ea9315"
      },
      "execution_count": null,
      "outputs": [
        {
          "output_type": "stream",
          "name": "stdout",
          "text": [
            "Accuracy:  0.9871644712564378\n"
          ]
        }
      ]
    },
    {
      "cell_type": "code",
      "source": [
        "from sklearn.neighbors import KNeighborsClassifier\n",
        "knn=KNeighborsClassifier(n_neighbors=3)\n",
        "knn.fit(X_train,y_train)\n",
        "y_pred = knn.predict(X_test)\n",
        "print(metrics.accuracy_score(y_test,y_pred))\n"
      ],
      "metadata": {
        "colab": {
          "base_uri": "https://localhost:8080/"
        },
        "id": "1N2RBaS_Y3lC",
        "outputId": "eabe7852-2382-482f-bf3b-a02c3ff26d44"
      },
      "execution_count": null,
      "outputs": [
        {
          "output_type": "stream",
          "name": "stdout",
          "text": [
            "0.9922826383429333\n"
          ]
        }
      ]
    },
    {
      "cell_type": "code",
      "source": [
        "from sklearn.neighbors import KNeighborsClassifier\n",
        "knn=KNeighborsClassifier(n_neighbors=9)\n",
        "knn.fit(X_train,y_train)\n",
        "y_pred = knn.predict(X_test)\n",
        "print(metrics.accuracy_score(y_test,y_pred))\n"
      ],
      "metadata": {
        "colab": {
          "base_uri": "https://localhost:8080/"
        },
        "outputId": "3d43fd97-c057-4605-8e5c-fee1e87a6a4d",
        "id": "9iK1mG_fZ62S"
      },
      "execution_count": null,
      "outputs": [
        {
          "output_type": "stream",
          "name": "stdout",
          "text": [
            "0.9922505495210744\n"
          ]
        }
      ]
    },
    {
      "cell_type": "code",
      "source": [],
      "metadata": {
        "id": "PSCX02tsl6pg"
      },
      "execution_count": null,
      "outputs": []
    },
    {
      "cell_type": "code",
      "execution_count": null,
      "metadata": {
        "id": "hPIxqPaqli5N",
        "outputId": "e248c9b0-09b5-42ff-cc4f-79acde9c58dd",
        "colab": {
          "base_uri": "https://localhost:8080/"
        }
      },
      "outputs": [
        {
          "output_type": "stream",
          "name": "stdout",
          "text": [
            "best_k = 3\n",
            "best_score = 0.9922826383429333\n"
          ]
        }
      ],
      "source": [
        "best_score = 0.0\n",
        "best_k = 1\n",
        "for k in range(1, 11):\n",
        "    knn_clf_sk = KNeighborsClassifier(n_neighbors=k)\n",
        "    knn_clf_sk.fit(X_train, y_train)\n",
        "    score = knn_clf_sk.score(X_test, y_test)\n",
        "    if score > best_score:\n",
        "        best_k = k\n",
        "        best_score = score\n",
        "\n",
        "print(\"best_k = \" + str(best_k))\n",
        "print(\"best_score = \" + str(best_score))"
      ]
    },
    {
      "cell_type": "code",
      "source": [
        "from sklearn.metrics import classification_report, confusion_matrix, accuracy_score\n",
        "result = confusion_matrix(y_test, y_pred)\n",
        "print(\"Confusion Matrix:\")\n",
        "print(result)\n",
        "result1 = classification_report(y_test, y_pred)\n",
        "print(\"Classification Report:\",)\n",
        "print (result1)\n",
        "result2 = accuracy_score(y_test,y_pred)\n",
        "print(\"Accuracy:\",result2)"
      ],
      "metadata": {
        "colab": {
          "base_uri": "https://localhost:8080/"
        },
        "id": "yKyvCbKFtgoU",
        "outputId": "f312bb1f-897b-42a5-d345-7c5eff643ff6"
      },
      "execution_count": null,
      "outputs": [
        {
          "output_type": "stream",
          "name": "stdout",
          "text": [
            "Confusion Matrix:\n",
            "[[  470   330]\n",
            " [  153 61374]]\n",
            "Classification Report:\n",
            "              precision    recall  f1-score   support\n",
            "\n",
            "           0       0.75      0.59      0.66       800\n",
            "           1       0.99      1.00      1.00     61527\n",
            "\n",
            "    accuracy                           0.99     62327\n",
            "   macro avg       0.87      0.79      0.83     62327\n",
            "weighted avg       0.99      0.99      0.99     62327\n",
            "\n",
            "Accuracy: 0.9922505495210744\n"
          ]
        }
      ]
    },
    {
      "cell_type": "code",
      "execution_count": null,
      "metadata": {
        "colab": {
          "base_uri": "https://localhost:8080/"
        },
        "id": "383tVRzaRz_C",
        "outputId": "a648bf6a-c256-4921-b594-1a017ebce2f7"
      },
      "outputs": [
        {
          "output_type": "execute_result",
          "data": {
            "text/plain": [
              "LinearSVC(C=1, loss='hinge')"
            ]
          },
          "metadata": {},
          "execution_count": 128
        }
      ],
      "source": [
        "from sklearn import svm\n",
        "svc1_c1 = svm.LinearSVC(C=1, loss='hinge', max_iter=1000) # linearly separable\n",
        "svc1_c1"
      ]
    },
    {
      "cell_type": "code",
      "source": [
        "svc1_c1.fit(X, y)\n",
        "svc1_c1.score(X, y)"
      ],
      "metadata": {
        "colab": {
          "base_uri": "https://localhost:8080/"
        },
        "id": "uVWpFePDQf32",
        "outputId": "937f6370-0ef2-4ef8-91d4-35eed667b249"
      },
      "execution_count": null,
      "outputs": [
        {
          "output_type": "execute_result",
          "data": {
            "text/plain": [
              "1.0"
            ]
          },
          "metadata": {},
          "execution_count": 65
        }
      ]
    },
    {
      "cell_type": "code",
      "source": [],
      "metadata": {
        "id": "odV5L1E-QyZy"
      },
      "execution_count": null,
      "outputs": []
    },
    {
      "cell_type": "code",
      "execution_count": null,
      "metadata": {
        "colab": {
          "base_uri": "https://localhost:8080/"
        },
        "outputId": "364aeb67-9620-4fa0-d4f5-4c393c337b94",
        "id": "TjvD28WqQbxO"
      },
      "outputs": [
        {
          "output_type": "execute_result",
          "data": {
            "text/plain": [
              "LinearSVC(C=1, loss='hinge')"
            ]
          },
          "metadata": {},
          "execution_count": 111
        }
      ],
      "source": [
        "from sklearn import svm\n",
        "svc1_c1 = svm.LinearSVC(C=1, loss='hinge') # linearly separable\n",
        "svc1_c1"
      ]
    },
    {
      "cell_type": "code",
      "source": [],
      "metadata": {
        "id": "Ydx6Uc5SQ4Q8"
      },
      "execution_count": null,
      "outputs": []
    },
    {
      "cell_type": "code",
      "execution_count": null,
      "metadata": {
        "colab": {
          "base_uri": "https://localhost:8080/"
        },
        "id": "kY9O5FePRz_D",
        "outputId": "6a8bc9ab-423f-40b4-d752-4dfeb03289ec"
      },
      "outputs": [
        {
          "output_type": "stream",
          "name": "stdout",
          "text": [
            "0.9871644712564378\n"
          ]
        },
        {
          "output_type": "stream",
          "name": "stderr",
          "text": [
            "/usr/local/lib/python3.8/dist-packages/sklearn/svm/_base.py:1206: ConvergenceWarning: Liblinear failed to converge, increase the number of iterations.\n",
            "  warnings.warn(\n"
          ]
        }
      ],
      "source": [
        "svc1_c1_df = svm.LinearSVC(C=3, loss='hinge') # linearly separable\n",
        "svc1_c1_df.fit(X_train,y_train)\n",
        "y_predict= svc1_c1_df.predict(X_test)\n",
        "print(metrics.accuracy_score(y_test,y_predict))\n",
        "\n"
      ]
    },
    {
      "cell_type": "code",
      "source": [
        "\n"
      ],
      "metadata": {
        "id": "jhCeMttqRpZE"
      },
      "execution_count": null,
      "outputs": []
    },
    {
      "cell_type": "code",
      "execution_count": null,
      "metadata": {
        "colab": {
          "base_uri": "https://localhost:8080/"
        },
        "id": "xOuFJW2zRz_E",
        "outputId": "da6937e1-e8a5-486a-eace-5bbf6aa690c8"
      },
      "outputs": [
        {
          "output_type": "execute_result",
          "data": {
            "text/plain": [
              "1.0"
            ]
          },
          "metadata": {},
          "execution_count": 113
        }
      ],
      "source": [
        "svc1_c100 = svm.LinearSVC(C=100, loss='hinge')\n",
        "svc1_c100.fit(X, y)\n",
        "svc1_c100.score(X, y)"
      ]
    },
    {
      "cell_type": "code",
      "source": [],
      "metadata": {
        "id": "hBGS3cpiTjc1"
      },
      "execution_count": null,
      "outputs": []
    }
  ]
}