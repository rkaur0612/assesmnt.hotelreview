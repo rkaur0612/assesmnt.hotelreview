{
  "nbformat": 4,
  "nbformat_minor": 0,
  "metadata": {
    "colab": {
      "provenance": [],
      "authorship_tag": "ABX9TyMtkMSnrXECXuLabt4IGKGc",
      "include_colab_link": true
    },
    "kernelspec": {
      "name": "python3",
      "display_name": "Python 3"
    },
    "language_info": {
      "name": "python"
    }
  },
  "cells": [
    {
      "cell_type": "markdown",
      "metadata": {
        "id": "view-in-github",
        "colab_type": "text"
      },
      "source": [
        "<a href=\"https://colab.research.google.com/github/rkaur0612/assesmnt.hotelreview/blob/main/Copy_of_sentiment_analysis_hotel_management.ipynb\" target=\"_parent\"><img src=\"https://colab.research.google.com/assets/colab-badge.svg\" alt=\"Open In Colab\"/></a>"
      ]
    },
    {
      "cell_type": "code",
      "execution_count": 214,
      "metadata": {
        "id": "a4NtfoKNi46R"
      },
      "outputs": [],
      "source": [
        "\n",
        "\n",
        "import pandas as pd\n",
        "import numpy as np\n",
        "import matplotlib.pyplot as plt\n"
      ]
    },
    {
      "cell_type": "code",
      "source": [
        "data=pd.read_csv(\"/content/Hotel_Reviews.csv\")\n",
        "data"
      ],
      "metadata": {
        "colab": {
          "base_uri": "https://localhost:8080/",
          "height": 1000
        },
        "id": "P8a_k6EQi9Xl",
        "outputId": "c4587a8c-2507-402d-d2d8-38baef263d83"
      },
      "execution_count": 215,
      "outputs": [
        {
          "output_type": "execute_result",
          "data": {
            "text/plain": [
              "                                            Hotel_Address  \\\n",
              "0        s Gravesandestraat 55 Oost 1092 AA Amsterdam ...   \n",
              "1        s Gravesandestraat 55 Oost 1092 AA Amsterdam ...   \n",
              "2        s Gravesandestraat 55 Oost 1092 AA Amsterdam ...   \n",
              "3        s Gravesandestraat 55 Oost 1092 AA Amsterdam ...   \n",
              "4        s Gravesandestraat 55 Oost 1092 AA Amsterdam ...   \n",
              "...                                                   ...   \n",
              "515733  Wurzbachgasse 21 15 Rudolfsheim F nfhaus 1150 ...   \n",
              "515734  Wurzbachgasse 21 15 Rudolfsheim F nfhaus 1150 ...   \n",
              "515735  Wurzbachgasse 21 15 Rudolfsheim F nfhaus 1150 ...   \n",
              "515736  Wurzbachgasse 21 15 Rudolfsheim F nfhaus 1150 ...   \n",
              "515737  Wurzbachgasse 21 15 Rudolfsheim F nfhaus 1150 ...   \n",
              "\n",
              "        Additional_Number_of_Scoring Review_Date  Average_Score  \\\n",
              "0                                194    8/3/2017            7.7   \n",
              "1                                194    8/3/2017            7.7   \n",
              "2                                194   7/31/2017            7.7   \n",
              "3                                194   7/31/2017            7.7   \n",
              "4                                194   7/24/2017            7.7   \n",
              "...                              ...         ...            ...   \n",
              "515733                           168   8/30/2015            8.1   \n",
              "515734                           168   8/22/2015            8.1   \n",
              "515735                           168   8/19/2015            8.1   \n",
              "515736                           168   8/17/2015            8.1   \n",
              "515737                           168    8/9/2015            8.1   \n",
              "\n",
              "                   Hotel_Name Reviewer_Nationality  \\\n",
              "0                 Hotel Arena              Russia    \n",
              "1                 Hotel Arena             Ireland    \n",
              "2                 Hotel Arena           Australia    \n",
              "3                 Hotel Arena      United Kingdom    \n",
              "4                 Hotel Arena         New Zealand    \n",
              "...                       ...                  ...   \n",
              "515733  Atlantis Hotel Vienna              Kuwait    \n",
              "515734  Atlantis Hotel Vienna             Estonia    \n",
              "515735  Atlantis Hotel Vienna               Egypt    \n",
              "515736  Atlantis Hotel Vienna              Mexico    \n",
              "515737  Atlantis Hotel Vienna             Hungary    \n",
              "\n",
              "                                          Negative_Review  \\\n",
              "0        I am so angry that i made this post available...   \n",
              "1                                             No Negative   \n",
              "2        Rooms are nice but for elderly a bit difficul...   \n",
              "3        My room was dirty and I was afraid to walk ba...   \n",
              "4        You When I booked with your company on line y...   \n",
              "...                                                   ...   \n",
              "515733   no trolly or staff to help you take the lugga...   \n",
              "515734           The hotel looks like 3 but surely not 4    \n",
              "515735   The ac was useless It was a hot week in vienn...   \n",
              "515736                                        No Negative   \n",
              "515737       I was in 3rd floor It didn t work Free Wife    \n",
              "\n",
              "        Review_Total_Negative_Word_Counts  Total_Number_of_Reviews  \\\n",
              "0                                     397                     1403   \n",
              "1                                       0                     1403   \n",
              "2                                      42                     1403   \n",
              "3                                     210                     1403   \n",
              "4                                     140                     1403   \n",
              "...                                   ...                      ...   \n",
              "515733                                 14                     2823   \n",
              "515734                                 11                     2823   \n",
              "515735                                 19                     2823   \n",
              "515736                                  0                     2823   \n",
              "515737                                 13                     2823   \n",
              "\n",
              "                                          Positive_Review  \\\n",
              "0        Only the park outside of the hotel was beauti...   \n",
              "1        No real complaints the hotel was great great ...   \n",
              "2        Location was good and staff were ok It is cut...   \n",
              "3        Great location in nice surroundings the bar a...   \n",
              "4         Amazing location and building Romantic setting    \n",
              "...                                                   ...   \n",
              "515733                                           location   \n",
              "515734      Breakfast was ok and we got earlier check in    \n",
              "515735                                        No Positive   \n",
              "515736   The rooms are enormous and really comfortable...   \n",
              "515737                               staff was very kind    \n",
              "\n",
              "        Review_Total_Positive_Word_Counts  \\\n",
              "0                                      11   \n",
              "1                                     105   \n",
              "2                                      21   \n",
              "3                                      26   \n",
              "4                                       8   \n",
              "...                                   ...   \n",
              "515733                                  2   \n",
              "515734                                 11   \n",
              "515735                                  0   \n",
              "515736                                 25   \n",
              "515737                                  6   \n",
              "\n",
              "        Total_Number_of_Reviews_Reviewer_Has_Given  Reviewer_Score  \\\n",
              "0                                                7             2.9   \n",
              "1                                                7             7.5   \n",
              "2                                                9             7.1   \n",
              "3                                                1             3.8   \n",
              "4                                                3             6.7   \n",
              "...                                            ...             ...   \n",
              "515733                                           8             7.0   \n",
              "515734                                          12             5.8   \n",
              "515735                                           3             2.5   \n",
              "515736                                           3             8.8   \n",
              "515737                                           1             8.3   \n",
              "\n",
              "                                                     Tags days_since_review  \\\n",
              "0       [' Leisure trip ', ' Couple ', ' Duplex Double...            0 days   \n",
              "1       [' Leisure trip ', ' Couple ', ' Duplex Double...            0 days   \n",
              "2       [' Leisure trip ', ' Family with young childre...            3 days   \n",
              "3       [' Leisure trip ', ' Solo traveler ', ' Duplex...            3 days   \n",
              "4       [' Leisure trip ', ' Couple ', ' Suite ', ' St...           10 days   \n",
              "...                                                   ...               ...   \n",
              "515733  [' Leisure trip ', ' Family with older childre...           704 day   \n",
              "515734  [' Leisure trip ', ' Family with young childre...           712 day   \n",
              "515735  [' Leisure trip ', ' Family with older childre...           715 day   \n",
              "515736  [' Leisure trip ', ' Group ', ' Standard Tripl...           717 day   \n",
              "515737  [' Leisure trip ', ' Family with young childre...           725 day   \n",
              "\n",
              "              lat        lng  \n",
              "0       52.360576   4.915968  \n",
              "1       52.360576   4.915968  \n",
              "2       52.360576   4.915968  \n",
              "3       52.360576   4.915968  \n",
              "4       52.360576   4.915968  \n",
              "...           ...        ...  \n",
              "515733  48.203745  16.335677  \n",
              "515734  48.203745  16.335677  \n",
              "515735  48.203745  16.335677  \n",
              "515736  48.203745  16.335677  \n",
              "515737  48.203745  16.335677  \n",
              "\n",
              "[515738 rows x 17 columns]"
            ],
            "text/html": [
              "\n",
              "  <div id=\"df-1785f7bd-4146-4b19-b904-1bda0fdfa1c4\">\n",
              "    <div class=\"colab-df-container\">\n",
              "      <div>\n",
              "<style scoped>\n",
              "    .dataframe tbody tr th:only-of-type {\n",
              "        vertical-align: middle;\n",
              "    }\n",
              "\n",
              "    .dataframe tbody tr th {\n",
              "        vertical-align: top;\n",
              "    }\n",
              "\n",
              "    .dataframe thead th {\n",
              "        text-align: right;\n",
              "    }\n",
              "</style>\n",
              "<table border=\"1\" class=\"dataframe\">\n",
              "  <thead>\n",
              "    <tr style=\"text-align: right;\">\n",
              "      <th></th>\n",
              "      <th>Hotel_Address</th>\n",
              "      <th>Additional_Number_of_Scoring</th>\n",
              "      <th>Review_Date</th>\n",
              "      <th>Average_Score</th>\n",
              "      <th>Hotel_Name</th>\n",
              "      <th>Reviewer_Nationality</th>\n",
              "      <th>Negative_Review</th>\n",
              "      <th>Review_Total_Negative_Word_Counts</th>\n",
              "      <th>Total_Number_of_Reviews</th>\n",
              "      <th>Positive_Review</th>\n",
              "      <th>Review_Total_Positive_Word_Counts</th>\n",
              "      <th>Total_Number_of_Reviews_Reviewer_Has_Given</th>\n",
              "      <th>Reviewer_Score</th>\n",
              "      <th>Tags</th>\n",
              "      <th>days_since_review</th>\n",
              "      <th>lat</th>\n",
              "      <th>lng</th>\n",
              "    </tr>\n",
              "  </thead>\n",
              "  <tbody>\n",
              "    <tr>\n",
              "      <th>0</th>\n",
              "      <td>s Gravesandestraat 55 Oost 1092 AA Amsterdam ...</td>\n",
              "      <td>194</td>\n",
              "      <td>8/3/2017</td>\n",
              "      <td>7.7</td>\n",
              "      <td>Hotel Arena</td>\n",
              "      <td>Russia</td>\n",
              "      <td>I am so angry that i made this post available...</td>\n",
              "      <td>397</td>\n",
              "      <td>1403</td>\n",
              "      <td>Only the park outside of the hotel was beauti...</td>\n",
              "      <td>11</td>\n",
              "      <td>7</td>\n",
              "      <td>2.9</td>\n",
              "      <td>[' Leisure trip ', ' Couple ', ' Duplex Double...</td>\n",
              "      <td>0 days</td>\n",
              "      <td>52.360576</td>\n",
              "      <td>4.915968</td>\n",
              "    </tr>\n",
              "    <tr>\n",
              "      <th>1</th>\n",
              "      <td>s Gravesandestraat 55 Oost 1092 AA Amsterdam ...</td>\n",
              "      <td>194</td>\n",
              "      <td>8/3/2017</td>\n",
              "      <td>7.7</td>\n",
              "      <td>Hotel Arena</td>\n",
              "      <td>Ireland</td>\n",
              "      <td>No Negative</td>\n",
              "      <td>0</td>\n",
              "      <td>1403</td>\n",
              "      <td>No real complaints the hotel was great great ...</td>\n",
              "      <td>105</td>\n",
              "      <td>7</td>\n",
              "      <td>7.5</td>\n",
              "      <td>[' Leisure trip ', ' Couple ', ' Duplex Double...</td>\n",
              "      <td>0 days</td>\n",
              "      <td>52.360576</td>\n",
              "      <td>4.915968</td>\n",
              "    </tr>\n",
              "    <tr>\n",
              "      <th>2</th>\n",
              "      <td>s Gravesandestraat 55 Oost 1092 AA Amsterdam ...</td>\n",
              "      <td>194</td>\n",
              "      <td>7/31/2017</td>\n",
              "      <td>7.7</td>\n",
              "      <td>Hotel Arena</td>\n",
              "      <td>Australia</td>\n",
              "      <td>Rooms are nice but for elderly a bit difficul...</td>\n",
              "      <td>42</td>\n",
              "      <td>1403</td>\n",
              "      <td>Location was good and staff were ok It is cut...</td>\n",
              "      <td>21</td>\n",
              "      <td>9</td>\n",
              "      <td>7.1</td>\n",
              "      <td>[' Leisure trip ', ' Family with young childre...</td>\n",
              "      <td>3 days</td>\n",
              "      <td>52.360576</td>\n",
              "      <td>4.915968</td>\n",
              "    </tr>\n",
              "    <tr>\n",
              "      <th>3</th>\n",
              "      <td>s Gravesandestraat 55 Oost 1092 AA Amsterdam ...</td>\n",
              "      <td>194</td>\n",
              "      <td>7/31/2017</td>\n",
              "      <td>7.7</td>\n",
              "      <td>Hotel Arena</td>\n",
              "      <td>United Kingdom</td>\n",
              "      <td>My room was dirty and I was afraid to walk ba...</td>\n",
              "      <td>210</td>\n",
              "      <td>1403</td>\n",
              "      <td>Great location in nice surroundings the bar a...</td>\n",
              "      <td>26</td>\n",
              "      <td>1</td>\n",
              "      <td>3.8</td>\n",
              "      <td>[' Leisure trip ', ' Solo traveler ', ' Duplex...</td>\n",
              "      <td>3 days</td>\n",
              "      <td>52.360576</td>\n",
              "      <td>4.915968</td>\n",
              "    </tr>\n",
              "    <tr>\n",
              "      <th>4</th>\n",
              "      <td>s Gravesandestraat 55 Oost 1092 AA Amsterdam ...</td>\n",
              "      <td>194</td>\n",
              "      <td>7/24/2017</td>\n",
              "      <td>7.7</td>\n",
              "      <td>Hotel Arena</td>\n",
              "      <td>New Zealand</td>\n",
              "      <td>You When I booked with your company on line y...</td>\n",
              "      <td>140</td>\n",
              "      <td>1403</td>\n",
              "      <td>Amazing location and building Romantic setting</td>\n",
              "      <td>8</td>\n",
              "      <td>3</td>\n",
              "      <td>6.7</td>\n",
              "      <td>[' Leisure trip ', ' Couple ', ' Suite ', ' St...</td>\n",
              "      <td>10 days</td>\n",
              "      <td>52.360576</td>\n",
              "      <td>4.915968</td>\n",
              "    </tr>\n",
              "    <tr>\n",
              "      <th>...</th>\n",
              "      <td>...</td>\n",
              "      <td>...</td>\n",
              "      <td>...</td>\n",
              "      <td>...</td>\n",
              "      <td>...</td>\n",
              "      <td>...</td>\n",
              "      <td>...</td>\n",
              "      <td>...</td>\n",
              "      <td>...</td>\n",
              "      <td>...</td>\n",
              "      <td>...</td>\n",
              "      <td>...</td>\n",
              "      <td>...</td>\n",
              "      <td>...</td>\n",
              "      <td>...</td>\n",
              "      <td>...</td>\n",
              "      <td>...</td>\n",
              "    </tr>\n",
              "    <tr>\n",
              "      <th>515733</th>\n",
              "      <td>Wurzbachgasse 21 15 Rudolfsheim F nfhaus 1150 ...</td>\n",
              "      <td>168</td>\n",
              "      <td>8/30/2015</td>\n",
              "      <td>8.1</td>\n",
              "      <td>Atlantis Hotel Vienna</td>\n",
              "      <td>Kuwait</td>\n",
              "      <td>no trolly or staff to help you take the lugga...</td>\n",
              "      <td>14</td>\n",
              "      <td>2823</td>\n",
              "      <td>location</td>\n",
              "      <td>2</td>\n",
              "      <td>8</td>\n",
              "      <td>7.0</td>\n",
              "      <td>[' Leisure trip ', ' Family with older childre...</td>\n",
              "      <td>704 day</td>\n",
              "      <td>48.203745</td>\n",
              "      <td>16.335677</td>\n",
              "    </tr>\n",
              "    <tr>\n",
              "      <th>515734</th>\n",
              "      <td>Wurzbachgasse 21 15 Rudolfsheim F nfhaus 1150 ...</td>\n",
              "      <td>168</td>\n",
              "      <td>8/22/2015</td>\n",
              "      <td>8.1</td>\n",
              "      <td>Atlantis Hotel Vienna</td>\n",
              "      <td>Estonia</td>\n",
              "      <td>The hotel looks like 3 but surely not 4</td>\n",
              "      <td>11</td>\n",
              "      <td>2823</td>\n",
              "      <td>Breakfast was ok and we got earlier check in</td>\n",
              "      <td>11</td>\n",
              "      <td>12</td>\n",
              "      <td>5.8</td>\n",
              "      <td>[' Leisure trip ', ' Family with young childre...</td>\n",
              "      <td>712 day</td>\n",
              "      <td>48.203745</td>\n",
              "      <td>16.335677</td>\n",
              "    </tr>\n",
              "    <tr>\n",
              "      <th>515735</th>\n",
              "      <td>Wurzbachgasse 21 15 Rudolfsheim F nfhaus 1150 ...</td>\n",
              "      <td>168</td>\n",
              "      <td>8/19/2015</td>\n",
              "      <td>8.1</td>\n",
              "      <td>Atlantis Hotel Vienna</td>\n",
              "      <td>Egypt</td>\n",
              "      <td>The ac was useless It was a hot week in vienn...</td>\n",
              "      <td>19</td>\n",
              "      <td>2823</td>\n",
              "      <td>No Positive</td>\n",
              "      <td>0</td>\n",
              "      <td>3</td>\n",
              "      <td>2.5</td>\n",
              "      <td>[' Leisure trip ', ' Family with older childre...</td>\n",
              "      <td>715 day</td>\n",
              "      <td>48.203745</td>\n",
              "      <td>16.335677</td>\n",
              "    </tr>\n",
              "    <tr>\n",
              "      <th>515736</th>\n",
              "      <td>Wurzbachgasse 21 15 Rudolfsheim F nfhaus 1150 ...</td>\n",
              "      <td>168</td>\n",
              "      <td>8/17/2015</td>\n",
              "      <td>8.1</td>\n",
              "      <td>Atlantis Hotel Vienna</td>\n",
              "      <td>Mexico</td>\n",
              "      <td>No Negative</td>\n",
              "      <td>0</td>\n",
              "      <td>2823</td>\n",
              "      <td>The rooms are enormous and really comfortable...</td>\n",
              "      <td>25</td>\n",
              "      <td>3</td>\n",
              "      <td>8.8</td>\n",
              "      <td>[' Leisure trip ', ' Group ', ' Standard Tripl...</td>\n",
              "      <td>717 day</td>\n",
              "      <td>48.203745</td>\n",
              "      <td>16.335677</td>\n",
              "    </tr>\n",
              "    <tr>\n",
              "      <th>515737</th>\n",
              "      <td>Wurzbachgasse 21 15 Rudolfsheim F nfhaus 1150 ...</td>\n",
              "      <td>168</td>\n",
              "      <td>8/9/2015</td>\n",
              "      <td>8.1</td>\n",
              "      <td>Atlantis Hotel Vienna</td>\n",
              "      <td>Hungary</td>\n",
              "      <td>I was in 3rd floor It didn t work Free Wife</td>\n",
              "      <td>13</td>\n",
              "      <td>2823</td>\n",
              "      <td>staff was very kind</td>\n",
              "      <td>6</td>\n",
              "      <td>1</td>\n",
              "      <td>8.3</td>\n",
              "      <td>[' Leisure trip ', ' Family with young childre...</td>\n",
              "      <td>725 day</td>\n",
              "      <td>48.203745</td>\n",
              "      <td>16.335677</td>\n",
              "    </tr>\n",
              "  </tbody>\n",
              "</table>\n",
              "<p>515738 rows × 17 columns</p>\n",
              "</div>\n",
              "      <button class=\"colab-df-convert\" onclick=\"convertToInteractive('df-1785f7bd-4146-4b19-b904-1bda0fdfa1c4')\"\n",
              "              title=\"Convert this dataframe to an interactive table.\"\n",
              "              style=\"display:none;\">\n",
              "        \n",
              "  <svg xmlns=\"http://www.w3.org/2000/svg\" height=\"24px\"viewBox=\"0 0 24 24\"\n",
              "       width=\"24px\">\n",
              "    <path d=\"M0 0h24v24H0V0z\" fill=\"none\"/>\n",
              "    <path d=\"M18.56 5.44l.94 2.06.94-2.06 2.06-.94-2.06-.94-.94-2.06-.94 2.06-2.06.94zm-11 1L8.5 8.5l.94-2.06 2.06-.94-2.06-.94L8.5 2.5l-.94 2.06-2.06.94zm10 10l.94 2.06.94-2.06 2.06-.94-2.06-.94-.94-2.06-.94 2.06-2.06.94z\"/><path d=\"M17.41 7.96l-1.37-1.37c-.4-.4-.92-.59-1.43-.59-.52 0-1.04.2-1.43.59L10.3 9.45l-7.72 7.72c-.78.78-.78 2.05 0 2.83L4 21.41c.39.39.9.59 1.41.59.51 0 1.02-.2 1.41-.59l7.78-7.78 2.81-2.81c.8-.78.8-2.07 0-2.86zM5.41 20L4 18.59l7.72-7.72 1.47 1.35L5.41 20z\"/>\n",
              "  </svg>\n",
              "      </button>\n",
              "      \n",
              "  <style>\n",
              "    .colab-df-container {\n",
              "      display:flex;\n",
              "      flex-wrap:wrap;\n",
              "      gap: 12px;\n",
              "    }\n",
              "\n",
              "    .colab-df-convert {\n",
              "      background-color: #E8F0FE;\n",
              "      border: none;\n",
              "      border-radius: 50%;\n",
              "      cursor: pointer;\n",
              "      display: none;\n",
              "      fill: #1967D2;\n",
              "      height: 32px;\n",
              "      padding: 0 0 0 0;\n",
              "      width: 32px;\n",
              "    }\n",
              "\n",
              "    .colab-df-convert:hover {\n",
              "      background-color: #E2EBFA;\n",
              "      box-shadow: 0px 1px 2px rgba(60, 64, 67, 0.3), 0px 1px 3px 1px rgba(60, 64, 67, 0.15);\n",
              "      fill: #174EA6;\n",
              "    }\n",
              "\n",
              "    [theme=dark] .colab-df-convert {\n",
              "      background-color: #3B4455;\n",
              "      fill: #D2E3FC;\n",
              "    }\n",
              "\n",
              "    [theme=dark] .colab-df-convert:hover {\n",
              "      background-color: #434B5C;\n",
              "      box-shadow: 0px 1px 3px 1px rgba(0, 0, 0, 0.15);\n",
              "      filter: drop-shadow(0px 1px 2px rgba(0, 0, 0, 0.3));\n",
              "      fill: #FFFFFF;\n",
              "    }\n",
              "  </style>\n",
              "\n",
              "      <script>\n",
              "        const buttonEl =\n",
              "          document.querySelector('#df-1785f7bd-4146-4b19-b904-1bda0fdfa1c4 button.colab-df-convert');\n",
              "        buttonEl.style.display =\n",
              "          google.colab.kernel.accessAllowed ? 'block' : 'none';\n",
              "\n",
              "        async function convertToInteractive(key) {\n",
              "          const element = document.querySelector('#df-1785f7bd-4146-4b19-b904-1bda0fdfa1c4');\n",
              "          const dataTable =\n",
              "            await google.colab.kernel.invokeFunction('convertToInteractive',\n",
              "                                                     [key], {});\n",
              "          if (!dataTable) return;\n",
              "\n",
              "          const docLinkHtml = 'Like what you see? Visit the ' +\n",
              "            '<a target=\"_blank\" href=https://colab.research.google.com/notebooks/data_table.ipynb>data table notebook</a>'\n",
              "            + ' to learn more about interactive tables.';\n",
              "          element.innerHTML = '';\n",
              "          dataTable['output_type'] = 'display_data';\n",
              "          await google.colab.output.renderOutput(dataTable, element);\n",
              "          const docLink = document.createElement('div');\n",
              "          docLink.innerHTML = docLinkHtml;\n",
              "          element.appendChild(docLink);\n",
              "        }\n",
              "      </script>\n",
              "    </div>\n",
              "  </div>\n",
              "  "
            ]
          },
          "metadata": {},
          "execution_count": 215
        }
      ]
    },
    {
      "cell_type": "code",
      "source": [
        "data.head()"
      ],
      "metadata": {
        "colab": {
          "base_uri": "https://localhost:8080/",
          "height": 738
        },
        "id": "jaBP5AsCk-Je",
        "outputId": "fba657ac-3338-4d86-9f43-a8bd0d431ae0"
      },
      "execution_count": 216,
      "outputs": [
        {
          "output_type": "execute_result",
          "data": {
            "text/plain": [
              "                                       Hotel_Address  \\\n",
              "0   s Gravesandestraat 55 Oost 1092 AA Amsterdam ...   \n",
              "1   s Gravesandestraat 55 Oost 1092 AA Amsterdam ...   \n",
              "2   s Gravesandestraat 55 Oost 1092 AA Amsterdam ...   \n",
              "3   s Gravesandestraat 55 Oost 1092 AA Amsterdam ...   \n",
              "4   s Gravesandestraat 55 Oost 1092 AA Amsterdam ...   \n",
              "\n",
              "   Additional_Number_of_Scoring Review_Date  Average_Score   Hotel_Name  \\\n",
              "0                           194    8/3/2017            7.7  Hotel Arena   \n",
              "1                           194    8/3/2017            7.7  Hotel Arena   \n",
              "2                           194   7/31/2017            7.7  Hotel Arena   \n",
              "3                           194   7/31/2017            7.7  Hotel Arena   \n",
              "4                           194   7/24/2017            7.7  Hotel Arena   \n",
              "\n",
              "  Reviewer_Nationality                                    Negative_Review  \\\n",
              "0              Russia    I am so angry that i made this post available...   \n",
              "1             Ireland                                         No Negative   \n",
              "2           Australia    Rooms are nice but for elderly a bit difficul...   \n",
              "3      United Kingdom    My room was dirty and I was afraid to walk ba...   \n",
              "4         New Zealand    You When I booked with your company on line y...   \n",
              "\n",
              "   Review_Total_Negative_Word_Counts  Total_Number_of_Reviews  \\\n",
              "0                                397                     1403   \n",
              "1                                  0                     1403   \n",
              "2                                 42                     1403   \n",
              "3                                210                     1403   \n",
              "4                                140                     1403   \n",
              "\n",
              "                                     Positive_Review  \\\n",
              "0   Only the park outside of the hotel was beauti...   \n",
              "1   No real complaints the hotel was great great ...   \n",
              "2   Location was good and staff were ok It is cut...   \n",
              "3   Great location in nice surroundings the bar a...   \n",
              "4    Amazing location and building Romantic setting    \n",
              "\n",
              "   Review_Total_Positive_Word_Counts  \\\n",
              "0                                 11   \n",
              "1                                105   \n",
              "2                                 21   \n",
              "3                                 26   \n",
              "4                                  8   \n",
              "\n",
              "   Total_Number_of_Reviews_Reviewer_Has_Given  Reviewer_Score  \\\n",
              "0                                           7             2.9   \n",
              "1                                           7             7.5   \n",
              "2                                           9             7.1   \n",
              "3                                           1             3.8   \n",
              "4                                           3             6.7   \n",
              "\n",
              "                                                Tags days_since_review  \\\n",
              "0  [' Leisure trip ', ' Couple ', ' Duplex Double...            0 days   \n",
              "1  [' Leisure trip ', ' Couple ', ' Duplex Double...            0 days   \n",
              "2  [' Leisure trip ', ' Family with young childre...            3 days   \n",
              "3  [' Leisure trip ', ' Solo traveler ', ' Duplex...            3 days   \n",
              "4  [' Leisure trip ', ' Couple ', ' Suite ', ' St...           10 days   \n",
              "\n",
              "         lat       lng  \n",
              "0  52.360576  4.915968  \n",
              "1  52.360576  4.915968  \n",
              "2  52.360576  4.915968  \n",
              "3  52.360576  4.915968  \n",
              "4  52.360576  4.915968  "
            ],
            "text/html": [
              "\n",
              "  <div id=\"df-07063cf4-90a5-4a32-964f-f84a7c8da270\">\n",
              "    <div class=\"colab-df-container\">\n",
              "      <div>\n",
              "<style scoped>\n",
              "    .dataframe tbody tr th:only-of-type {\n",
              "        vertical-align: middle;\n",
              "    }\n",
              "\n",
              "    .dataframe tbody tr th {\n",
              "        vertical-align: top;\n",
              "    }\n",
              "\n",
              "    .dataframe thead th {\n",
              "        text-align: right;\n",
              "    }\n",
              "</style>\n",
              "<table border=\"1\" class=\"dataframe\">\n",
              "  <thead>\n",
              "    <tr style=\"text-align: right;\">\n",
              "      <th></th>\n",
              "      <th>Hotel_Address</th>\n",
              "      <th>Additional_Number_of_Scoring</th>\n",
              "      <th>Review_Date</th>\n",
              "      <th>Average_Score</th>\n",
              "      <th>Hotel_Name</th>\n",
              "      <th>Reviewer_Nationality</th>\n",
              "      <th>Negative_Review</th>\n",
              "      <th>Review_Total_Negative_Word_Counts</th>\n",
              "      <th>Total_Number_of_Reviews</th>\n",
              "      <th>Positive_Review</th>\n",
              "      <th>Review_Total_Positive_Word_Counts</th>\n",
              "      <th>Total_Number_of_Reviews_Reviewer_Has_Given</th>\n",
              "      <th>Reviewer_Score</th>\n",
              "      <th>Tags</th>\n",
              "      <th>days_since_review</th>\n",
              "      <th>lat</th>\n",
              "      <th>lng</th>\n",
              "    </tr>\n",
              "  </thead>\n",
              "  <tbody>\n",
              "    <tr>\n",
              "      <th>0</th>\n",
              "      <td>s Gravesandestraat 55 Oost 1092 AA Amsterdam ...</td>\n",
              "      <td>194</td>\n",
              "      <td>8/3/2017</td>\n",
              "      <td>7.7</td>\n",
              "      <td>Hotel Arena</td>\n",
              "      <td>Russia</td>\n",
              "      <td>I am so angry that i made this post available...</td>\n",
              "      <td>397</td>\n",
              "      <td>1403</td>\n",
              "      <td>Only the park outside of the hotel was beauti...</td>\n",
              "      <td>11</td>\n",
              "      <td>7</td>\n",
              "      <td>2.9</td>\n",
              "      <td>[' Leisure trip ', ' Couple ', ' Duplex Double...</td>\n",
              "      <td>0 days</td>\n",
              "      <td>52.360576</td>\n",
              "      <td>4.915968</td>\n",
              "    </tr>\n",
              "    <tr>\n",
              "      <th>1</th>\n",
              "      <td>s Gravesandestraat 55 Oost 1092 AA Amsterdam ...</td>\n",
              "      <td>194</td>\n",
              "      <td>8/3/2017</td>\n",
              "      <td>7.7</td>\n",
              "      <td>Hotel Arena</td>\n",
              "      <td>Ireland</td>\n",
              "      <td>No Negative</td>\n",
              "      <td>0</td>\n",
              "      <td>1403</td>\n",
              "      <td>No real complaints the hotel was great great ...</td>\n",
              "      <td>105</td>\n",
              "      <td>7</td>\n",
              "      <td>7.5</td>\n",
              "      <td>[' Leisure trip ', ' Couple ', ' Duplex Double...</td>\n",
              "      <td>0 days</td>\n",
              "      <td>52.360576</td>\n",
              "      <td>4.915968</td>\n",
              "    </tr>\n",
              "    <tr>\n",
              "      <th>2</th>\n",
              "      <td>s Gravesandestraat 55 Oost 1092 AA Amsterdam ...</td>\n",
              "      <td>194</td>\n",
              "      <td>7/31/2017</td>\n",
              "      <td>7.7</td>\n",
              "      <td>Hotel Arena</td>\n",
              "      <td>Australia</td>\n",
              "      <td>Rooms are nice but for elderly a bit difficul...</td>\n",
              "      <td>42</td>\n",
              "      <td>1403</td>\n",
              "      <td>Location was good and staff were ok It is cut...</td>\n",
              "      <td>21</td>\n",
              "      <td>9</td>\n",
              "      <td>7.1</td>\n",
              "      <td>[' Leisure trip ', ' Family with young childre...</td>\n",
              "      <td>3 days</td>\n",
              "      <td>52.360576</td>\n",
              "      <td>4.915968</td>\n",
              "    </tr>\n",
              "    <tr>\n",
              "      <th>3</th>\n",
              "      <td>s Gravesandestraat 55 Oost 1092 AA Amsterdam ...</td>\n",
              "      <td>194</td>\n",
              "      <td>7/31/2017</td>\n",
              "      <td>7.7</td>\n",
              "      <td>Hotel Arena</td>\n",
              "      <td>United Kingdom</td>\n",
              "      <td>My room was dirty and I was afraid to walk ba...</td>\n",
              "      <td>210</td>\n",
              "      <td>1403</td>\n",
              "      <td>Great location in nice surroundings the bar a...</td>\n",
              "      <td>26</td>\n",
              "      <td>1</td>\n",
              "      <td>3.8</td>\n",
              "      <td>[' Leisure trip ', ' Solo traveler ', ' Duplex...</td>\n",
              "      <td>3 days</td>\n",
              "      <td>52.360576</td>\n",
              "      <td>4.915968</td>\n",
              "    </tr>\n",
              "    <tr>\n",
              "      <th>4</th>\n",
              "      <td>s Gravesandestraat 55 Oost 1092 AA Amsterdam ...</td>\n",
              "      <td>194</td>\n",
              "      <td>7/24/2017</td>\n",
              "      <td>7.7</td>\n",
              "      <td>Hotel Arena</td>\n",
              "      <td>New Zealand</td>\n",
              "      <td>You When I booked with your company on line y...</td>\n",
              "      <td>140</td>\n",
              "      <td>1403</td>\n",
              "      <td>Amazing location and building Romantic setting</td>\n",
              "      <td>8</td>\n",
              "      <td>3</td>\n",
              "      <td>6.7</td>\n",
              "      <td>[' Leisure trip ', ' Couple ', ' Suite ', ' St...</td>\n",
              "      <td>10 days</td>\n",
              "      <td>52.360576</td>\n",
              "      <td>4.915968</td>\n",
              "    </tr>\n",
              "  </tbody>\n",
              "</table>\n",
              "</div>\n",
              "      <button class=\"colab-df-convert\" onclick=\"convertToInteractive('df-07063cf4-90a5-4a32-964f-f84a7c8da270')\"\n",
              "              title=\"Convert this dataframe to an interactive table.\"\n",
              "              style=\"display:none;\">\n",
              "        \n",
              "  <svg xmlns=\"http://www.w3.org/2000/svg\" height=\"24px\"viewBox=\"0 0 24 24\"\n",
              "       width=\"24px\">\n",
              "    <path d=\"M0 0h24v24H0V0z\" fill=\"none\"/>\n",
              "    <path d=\"M18.56 5.44l.94 2.06.94-2.06 2.06-.94-2.06-.94-.94-2.06-.94 2.06-2.06.94zm-11 1L8.5 8.5l.94-2.06 2.06-.94-2.06-.94L8.5 2.5l-.94 2.06-2.06.94zm10 10l.94 2.06.94-2.06 2.06-.94-2.06-.94-.94-2.06-.94 2.06-2.06.94z\"/><path d=\"M17.41 7.96l-1.37-1.37c-.4-.4-.92-.59-1.43-.59-.52 0-1.04.2-1.43.59L10.3 9.45l-7.72 7.72c-.78.78-.78 2.05 0 2.83L4 21.41c.39.39.9.59 1.41.59.51 0 1.02-.2 1.41-.59l7.78-7.78 2.81-2.81c.8-.78.8-2.07 0-2.86zM5.41 20L4 18.59l7.72-7.72 1.47 1.35L5.41 20z\"/>\n",
              "  </svg>\n",
              "      </button>\n",
              "      \n",
              "  <style>\n",
              "    .colab-df-container {\n",
              "      display:flex;\n",
              "      flex-wrap:wrap;\n",
              "      gap: 12px;\n",
              "    }\n",
              "\n",
              "    .colab-df-convert {\n",
              "      background-color: #E8F0FE;\n",
              "      border: none;\n",
              "      border-radius: 50%;\n",
              "      cursor: pointer;\n",
              "      display: none;\n",
              "      fill: #1967D2;\n",
              "      height: 32px;\n",
              "      padding: 0 0 0 0;\n",
              "      width: 32px;\n",
              "    }\n",
              "\n",
              "    .colab-df-convert:hover {\n",
              "      background-color: #E2EBFA;\n",
              "      box-shadow: 0px 1px 2px rgba(60, 64, 67, 0.3), 0px 1px 3px 1px rgba(60, 64, 67, 0.15);\n",
              "      fill: #174EA6;\n",
              "    }\n",
              "\n",
              "    [theme=dark] .colab-df-convert {\n",
              "      background-color: #3B4455;\n",
              "      fill: #D2E3FC;\n",
              "    }\n",
              "\n",
              "    [theme=dark] .colab-df-convert:hover {\n",
              "      background-color: #434B5C;\n",
              "      box-shadow: 0px 1px 3px 1px rgba(0, 0, 0, 0.15);\n",
              "      filter: drop-shadow(0px 1px 2px rgba(0, 0, 0, 0.3));\n",
              "      fill: #FFFFFF;\n",
              "    }\n",
              "  </style>\n",
              "\n",
              "      <script>\n",
              "        const buttonEl =\n",
              "          document.querySelector('#df-07063cf4-90a5-4a32-964f-f84a7c8da270 button.colab-df-convert');\n",
              "        buttonEl.style.display =\n",
              "          google.colab.kernel.accessAllowed ? 'block' : 'none';\n",
              "\n",
              "        async function convertToInteractive(key) {\n",
              "          const element = document.querySelector('#df-07063cf4-90a5-4a32-964f-f84a7c8da270');\n",
              "          const dataTable =\n",
              "            await google.colab.kernel.invokeFunction('convertToInteractive',\n",
              "                                                     [key], {});\n",
              "          if (!dataTable) return;\n",
              "\n",
              "          const docLinkHtml = 'Like what you see? Visit the ' +\n",
              "            '<a target=\"_blank\" href=https://colab.research.google.com/notebooks/data_table.ipynb>data table notebook</a>'\n",
              "            + ' to learn more about interactive tables.';\n",
              "          element.innerHTML = '';\n",
              "          dataTable['output_type'] = 'display_data';\n",
              "          await google.colab.output.renderOutput(dataTable, element);\n",
              "          const docLink = document.createElement('div');\n",
              "          docLink.innerHTML = docLinkHtml;\n",
              "          element.appendChild(docLink);\n",
              "        }\n",
              "      </script>\n",
              "    </div>\n",
              "  </div>\n",
              "  "
            ]
          },
          "metadata": {},
          "execution_count": 216
        }
      ]
    },
    {
      "cell_type": "code",
      "source": [
        "data.tail()"
      ],
      "metadata": {
        "colab": {
          "base_uri": "https://localhost:8080/",
          "height": 686
        },
        "id": "fTuYR0icqhEX",
        "outputId": "c5cde602-b7d4-4ae8-c192-290d1742c466"
      },
      "execution_count": 217,
      "outputs": [
        {
          "output_type": "execute_result",
          "data": {
            "text/plain": [
              "                                            Hotel_Address  \\\n",
              "515733  Wurzbachgasse 21 15 Rudolfsheim F nfhaus 1150 ...   \n",
              "515734  Wurzbachgasse 21 15 Rudolfsheim F nfhaus 1150 ...   \n",
              "515735  Wurzbachgasse 21 15 Rudolfsheim F nfhaus 1150 ...   \n",
              "515736  Wurzbachgasse 21 15 Rudolfsheim F nfhaus 1150 ...   \n",
              "515737  Wurzbachgasse 21 15 Rudolfsheim F nfhaus 1150 ...   \n",
              "\n",
              "        Additional_Number_of_Scoring Review_Date  Average_Score  \\\n",
              "515733                           168   8/30/2015            8.1   \n",
              "515734                           168   8/22/2015            8.1   \n",
              "515735                           168   8/19/2015            8.1   \n",
              "515736                           168   8/17/2015            8.1   \n",
              "515737                           168    8/9/2015            8.1   \n",
              "\n",
              "                   Hotel_Name Reviewer_Nationality  \\\n",
              "515733  Atlantis Hotel Vienna              Kuwait    \n",
              "515734  Atlantis Hotel Vienna             Estonia    \n",
              "515735  Atlantis Hotel Vienna               Egypt    \n",
              "515736  Atlantis Hotel Vienna              Mexico    \n",
              "515737  Atlantis Hotel Vienna             Hungary    \n",
              "\n",
              "                                          Negative_Review  \\\n",
              "515733   no trolly or staff to help you take the lugga...   \n",
              "515734           The hotel looks like 3 but surely not 4    \n",
              "515735   The ac was useless It was a hot week in vienn...   \n",
              "515736                                        No Negative   \n",
              "515737       I was in 3rd floor It didn t work Free Wife    \n",
              "\n",
              "        Review_Total_Negative_Word_Counts  Total_Number_of_Reviews  \\\n",
              "515733                                 14                     2823   \n",
              "515734                                 11                     2823   \n",
              "515735                                 19                     2823   \n",
              "515736                                  0                     2823   \n",
              "515737                                 13                     2823   \n",
              "\n",
              "                                          Positive_Review  \\\n",
              "515733                                           location   \n",
              "515734      Breakfast was ok and we got earlier check in    \n",
              "515735                                        No Positive   \n",
              "515736   The rooms are enormous and really comfortable...   \n",
              "515737                               staff was very kind    \n",
              "\n",
              "        Review_Total_Positive_Word_Counts  \\\n",
              "515733                                  2   \n",
              "515734                                 11   \n",
              "515735                                  0   \n",
              "515736                                 25   \n",
              "515737                                  6   \n",
              "\n",
              "        Total_Number_of_Reviews_Reviewer_Has_Given  Reviewer_Score  \\\n",
              "515733                                           8             7.0   \n",
              "515734                                          12             5.8   \n",
              "515735                                           3             2.5   \n",
              "515736                                           3             8.8   \n",
              "515737                                           1             8.3   \n",
              "\n",
              "                                                     Tags days_since_review  \\\n",
              "515733  [' Leisure trip ', ' Family with older childre...           704 day   \n",
              "515734  [' Leisure trip ', ' Family with young childre...           712 day   \n",
              "515735  [' Leisure trip ', ' Family with older childre...           715 day   \n",
              "515736  [' Leisure trip ', ' Group ', ' Standard Tripl...           717 day   \n",
              "515737  [' Leisure trip ', ' Family with young childre...           725 day   \n",
              "\n",
              "              lat        lng  \n",
              "515733  48.203745  16.335677  \n",
              "515734  48.203745  16.335677  \n",
              "515735  48.203745  16.335677  \n",
              "515736  48.203745  16.335677  \n",
              "515737  48.203745  16.335677  "
            ],
            "text/html": [
              "\n",
              "  <div id=\"df-98aed1f0-448f-4e14-a3f8-29c875f8a1ff\">\n",
              "    <div class=\"colab-df-container\">\n",
              "      <div>\n",
              "<style scoped>\n",
              "    .dataframe tbody tr th:only-of-type {\n",
              "        vertical-align: middle;\n",
              "    }\n",
              "\n",
              "    .dataframe tbody tr th {\n",
              "        vertical-align: top;\n",
              "    }\n",
              "\n",
              "    .dataframe thead th {\n",
              "        text-align: right;\n",
              "    }\n",
              "</style>\n",
              "<table border=\"1\" class=\"dataframe\">\n",
              "  <thead>\n",
              "    <tr style=\"text-align: right;\">\n",
              "      <th></th>\n",
              "      <th>Hotel_Address</th>\n",
              "      <th>Additional_Number_of_Scoring</th>\n",
              "      <th>Review_Date</th>\n",
              "      <th>Average_Score</th>\n",
              "      <th>Hotel_Name</th>\n",
              "      <th>Reviewer_Nationality</th>\n",
              "      <th>Negative_Review</th>\n",
              "      <th>Review_Total_Negative_Word_Counts</th>\n",
              "      <th>Total_Number_of_Reviews</th>\n",
              "      <th>Positive_Review</th>\n",
              "      <th>Review_Total_Positive_Word_Counts</th>\n",
              "      <th>Total_Number_of_Reviews_Reviewer_Has_Given</th>\n",
              "      <th>Reviewer_Score</th>\n",
              "      <th>Tags</th>\n",
              "      <th>days_since_review</th>\n",
              "      <th>lat</th>\n",
              "      <th>lng</th>\n",
              "    </tr>\n",
              "  </thead>\n",
              "  <tbody>\n",
              "    <tr>\n",
              "      <th>515733</th>\n",
              "      <td>Wurzbachgasse 21 15 Rudolfsheim F nfhaus 1150 ...</td>\n",
              "      <td>168</td>\n",
              "      <td>8/30/2015</td>\n",
              "      <td>8.1</td>\n",
              "      <td>Atlantis Hotel Vienna</td>\n",
              "      <td>Kuwait</td>\n",
              "      <td>no trolly or staff to help you take the lugga...</td>\n",
              "      <td>14</td>\n",
              "      <td>2823</td>\n",
              "      <td>location</td>\n",
              "      <td>2</td>\n",
              "      <td>8</td>\n",
              "      <td>7.0</td>\n",
              "      <td>[' Leisure trip ', ' Family with older childre...</td>\n",
              "      <td>704 day</td>\n",
              "      <td>48.203745</td>\n",
              "      <td>16.335677</td>\n",
              "    </tr>\n",
              "    <tr>\n",
              "      <th>515734</th>\n",
              "      <td>Wurzbachgasse 21 15 Rudolfsheim F nfhaus 1150 ...</td>\n",
              "      <td>168</td>\n",
              "      <td>8/22/2015</td>\n",
              "      <td>8.1</td>\n",
              "      <td>Atlantis Hotel Vienna</td>\n",
              "      <td>Estonia</td>\n",
              "      <td>The hotel looks like 3 but surely not 4</td>\n",
              "      <td>11</td>\n",
              "      <td>2823</td>\n",
              "      <td>Breakfast was ok and we got earlier check in</td>\n",
              "      <td>11</td>\n",
              "      <td>12</td>\n",
              "      <td>5.8</td>\n",
              "      <td>[' Leisure trip ', ' Family with young childre...</td>\n",
              "      <td>712 day</td>\n",
              "      <td>48.203745</td>\n",
              "      <td>16.335677</td>\n",
              "    </tr>\n",
              "    <tr>\n",
              "      <th>515735</th>\n",
              "      <td>Wurzbachgasse 21 15 Rudolfsheim F nfhaus 1150 ...</td>\n",
              "      <td>168</td>\n",
              "      <td>8/19/2015</td>\n",
              "      <td>8.1</td>\n",
              "      <td>Atlantis Hotel Vienna</td>\n",
              "      <td>Egypt</td>\n",
              "      <td>The ac was useless It was a hot week in vienn...</td>\n",
              "      <td>19</td>\n",
              "      <td>2823</td>\n",
              "      <td>No Positive</td>\n",
              "      <td>0</td>\n",
              "      <td>3</td>\n",
              "      <td>2.5</td>\n",
              "      <td>[' Leisure trip ', ' Family with older childre...</td>\n",
              "      <td>715 day</td>\n",
              "      <td>48.203745</td>\n",
              "      <td>16.335677</td>\n",
              "    </tr>\n",
              "    <tr>\n",
              "      <th>515736</th>\n",
              "      <td>Wurzbachgasse 21 15 Rudolfsheim F nfhaus 1150 ...</td>\n",
              "      <td>168</td>\n",
              "      <td>8/17/2015</td>\n",
              "      <td>8.1</td>\n",
              "      <td>Atlantis Hotel Vienna</td>\n",
              "      <td>Mexico</td>\n",
              "      <td>No Negative</td>\n",
              "      <td>0</td>\n",
              "      <td>2823</td>\n",
              "      <td>The rooms are enormous and really comfortable...</td>\n",
              "      <td>25</td>\n",
              "      <td>3</td>\n",
              "      <td>8.8</td>\n",
              "      <td>[' Leisure trip ', ' Group ', ' Standard Tripl...</td>\n",
              "      <td>717 day</td>\n",
              "      <td>48.203745</td>\n",
              "      <td>16.335677</td>\n",
              "    </tr>\n",
              "    <tr>\n",
              "      <th>515737</th>\n",
              "      <td>Wurzbachgasse 21 15 Rudolfsheim F nfhaus 1150 ...</td>\n",
              "      <td>168</td>\n",
              "      <td>8/9/2015</td>\n",
              "      <td>8.1</td>\n",
              "      <td>Atlantis Hotel Vienna</td>\n",
              "      <td>Hungary</td>\n",
              "      <td>I was in 3rd floor It didn t work Free Wife</td>\n",
              "      <td>13</td>\n",
              "      <td>2823</td>\n",
              "      <td>staff was very kind</td>\n",
              "      <td>6</td>\n",
              "      <td>1</td>\n",
              "      <td>8.3</td>\n",
              "      <td>[' Leisure trip ', ' Family with young childre...</td>\n",
              "      <td>725 day</td>\n",
              "      <td>48.203745</td>\n",
              "      <td>16.335677</td>\n",
              "    </tr>\n",
              "  </tbody>\n",
              "</table>\n",
              "</div>\n",
              "      <button class=\"colab-df-convert\" onclick=\"convertToInteractive('df-98aed1f0-448f-4e14-a3f8-29c875f8a1ff')\"\n",
              "              title=\"Convert this dataframe to an interactive table.\"\n",
              "              style=\"display:none;\">\n",
              "        \n",
              "  <svg xmlns=\"http://www.w3.org/2000/svg\" height=\"24px\"viewBox=\"0 0 24 24\"\n",
              "       width=\"24px\">\n",
              "    <path d=\"M0 0h24v24H0V0z\" fill=\"none\"/>\n",
              "    <path d=\"M18.56 5.44l.94 2.06.94-2.06 2.06-.94-2.06-.94-.94-2.06-.94 2.06-2.06.94zm-11 1L8.5 8.5l.94-2.06 2.06-.94-2.06-.94L8.5 2.5l-.94 2.06-2.06.94zm10 10l.94 2.06.94-2.06 2.06-.94-2.06-.94-.94-2.06-.94 2.06-2.06.94z\"/><path d=\"M17.41 7.96l-1.37-1.37c-.4-.4-.92-.59-1.43-.59-.52 0-1.04.2-1.43.59L10.3 9.45l-7.72 7.72c-.78.78-.78 2.05 0 2.83L4 21.41c.39.39.9.59 1.41.59.51 0 1.02-.2 1.41-.59l7.78-7.78 2.81-2.81c.8-.78.8-2.07 0-2.86zM5.41 20L4 18.59l7.72-7.72 1.47 1.35L5.41 20z\"/>\n",
              "  </svg>\n",
              "      </button>\n",
              "      \n",
              "  <style>\n",
              "    .colab-df-container {\n",
              "      display:flex;\n",
              "      flex-wrap:wrap;\n",
              "      gap: 12px;\n",
              "    }\n",
              "\n",
              "    .colab-df-convert {\n",
              "      background-color: #E8F0FE;\n",
              "      border: none;\n",
              "      border-radius: 50%;\n",
              "      cursor: pointer;\n",
              "      display: none;\n",
              "      fill: #1967D2;\n",
              "      height: 32px;\n",
              "      padding: 0 0 0 0;\n",
              "      width: 32px;\n",
              "    }\n",
              "\n",
              "    .colab-df-convert:hover {\n",
              "      background-color: #E2EBFA;\n",
              "      box-shadow: 0px 1px 2px rgba(60, 64, 67, 0.3), 0px 1px 3px 1px rgba(60, 64, 67, 0.15);\n",
              "      fill: #174EA6;\n",
              "    }\n",
              "\n",
              "    [theme=dark] .colab-df-convert {\n",
              "      background-color: #3B4455;\n",
              "      fill: #D2E3FC;\n",
              "    }\n",
              "\n",
              "    [theme=dark] .colab-df-convert:hover {\n",
              "      background-color: #434B5C;\n",
              "      box-shadow: 0px 1px 3px 1px rgba(0, 0, 0, 0.15);\n",
              "      filter: drop-shadow(0px 1px 2px rgba(0, 0, 0, 0.3));\n",
              "      fill: #FFFFFF;\n",
              "    }\n",
              "  </style>\n",
              "\n",
              "      <script>\n",
              "        const buttonEl =\n",
              "          document.querySelector('#df-98aed1f0-448f-4e14-a3f8-29c875f8a1ff button.colab-df-convert');\n",
              "        buttonEl.style.display =\n",
              "          google.colab.kernel.accessAllowed ? 'block' : 'none';\n",
              "\n",
              "        async function convertToInteractive(key) {\n",
              "          const element = document.querySelector('#df-98aed1f0-448f-4e14-a3f8-29c875f8a1ff');\n",
              "          const dataTable =\n",
              "            await google.colab.kernel.invokeFunction('convertToInteractive',\n",
              "                                                     [key], {});\n",
              "          if (!dataTable) return;\n",
              "\n",
              "          const docLinkHtml = 'Like what you see? Visit the ' +\n",
              "            '<a target=\"_blank\" href=https://colab.research.google.com/notebooks/data_table.ipynb>data table notebook</a>'\n",
              "            + ' to learn more about interactive tables.';\n",
              "          element.innerHTML = '';\n",
              "          dataTable['output_type'] = 'display_data';\n",
              "          await google.colab.output.renderOutput(dataTable, element);\n",
              "          const docLink = document.createElement('div');\n",
              "          docLink.innerHTML = docLinkHtml;\n",
              "          element.appendChild(docLink);\n",
              "        }\n",
              "      </script>\n",
              "    </div>\n",
              "  </div>\n",
              "  "
            ]
          },
          "metadata": {},
          "execution_count": 217
        }
      ]
    },
    {
      "cell_type": "code",
      "source": [
        "#EDA\n",
        "print(data.shape)"
      ],
      "metadata": {
        "colab": {
          "base_uri": "https://localhost:8080/"
        },
        "id": "plxJMPfcqlD6",
        "outputId": "bd6d0a9c-ba00-4234-b814-9248dbe1e877"
      },
      "execution_count": 218,
      "outputs": [
        {
          "output_type": "stream",
          "name": "stdout",
          "text": [
            "(515738, 17)\n"
          ]
        }
      ]
    },
    {
      "cell_type": "code",
      "source": [
        "data.values"
      ],
      "metadata": {
        "colab": {
          "base_uri": "https://localhost:8080/"
        },
        "id": "PvuSFeo6rNaQ",
        "outputId": "45530ab7-d7d9-4c02-e8cb-d1f2b82f184f"
      },
      "execution_count": 219,
      "outputs": [
        {
          "output_type": "execute_result",
          "data": {
            "text/plain": [
              "array([[' s Gravesandestraat 55 Oost 1092 AA Amsterdam Netherlands', 194,\n",
              "        '8/3/2017', ..., '0 days', 52.3605759, 4.9159683],\n",
              "       [' s Gravesandestraat 55 Oost 1092 AA Amsterdam Netherlands', 194,\n",
              "        '8/3/2017', ..., '0 days', 52.3605759, 4.9159683],\n",
              "       [' s Gravesandestraat 55 Oost 1092 AA Amsterdam Netherlands', 194,\n",
              "        '7/31/2017', ..., '3 days', 52.3605759, 4.9159683],\n",
              "       ...,\n",
              "       ['Wurzbachgasse 21 15 Rudolfsheim F nfhaus 1150 Vienna Austria',\n",
              "        168, '8/19/2015', ..., '715 day', 48.2037451, 16.3356767],\n",
              "       ['Wurzbachgasse 21 15 Rudolfsheim F nfhaus 1150 Vienna Austria',\n",
              "        168, '8/17/2015', ..., '717 day', 48.2037451, 16.3356767],\n",
              "       ['Wurzbachgasse 21 15 Rudolfsheim F nfhaus 1150 Vienna Austria',\n",
              "        168, '8/9/2015', ..., '725 day', 48.2037451, 16.3356767]],\n",
              "      dtype=object)"
            ]
          },
          "metadata": {},
          "execution_count": 219
        }
      ]
    },
    {
      "cell_type": "code",
      "source": [
        "#summary\n",
        "data.describe()"
      ],
      "metadata": {
        "id": "e1L9Q8hirioC",
        "colab": {
          "base_uri": "https://localhost:8080/",
          "height": 364
        },
        "outputId": "9c6c45a0-7024-4efd-cbcd-4acda807fd2c"
      },
      "execution_count": 220,
      "outputs": [
        {
          "output_type": "execute_result",
          "data": {
            "text/plain": [
              "       Additional_Number_of_Scoring  Average_Score  \\\n",
              "count                 515738.000000  515738.000000   \n",
              "mean                     498.081836       8.397487   \n",
              "std                      500.538467       0.548048   \n",
              "min                        1.000000       5.200000   \n",
              "25%                      169.000000       8.100000   \n",
              "50%                      341.000000       8.400000   \n",
              "75%                      660.000000       8.800000   \n",
              "max                     2682.000000       9.800000   \n",
              "\n",
              "       Review_Total_Negative_Word_Counts  Total_Number_of_Reviews  \\\n",
              "count                      515738.000000            515738.000000   \n",
              "mean                           18.539450              2743.743944   \n",
              "std                            29.690831              2317.464868   \n",
              "min                             0.000000                43.000000   \n",
              "25%                             2.000000              1161.000000   \n",
              "50%                             9.000000              2134.000000   \n",
              "75%                            23.000000              3613.000000   \n",
              "max                           408.000000             16670.000000   \n",
              "\n",
              "       Review_Total_Positive_Word_Counts  \\\n",
              "count                      515738.000000   \n",
              "mean                           17.776458   \n",
              "std                            21.804185   \n",
              "min                             0.000000   \n",
              "25%                             5.000000   \n",
              "50%                            11.000000   \n",
              "75%                            22.000000   \n",
              "max                           395.000000   \n",
              "\n",
              "       Total_Number_of_Reviews_Reviewer_Has_Given  Reviewer_Score  \\\n",
              "count                               515738.000000   515738.000000   \n",
              "mean                                     7.166001        8.395077   \n",
              "std                                     11.040228        1.637856   \n",
              "min                                      1.000000        2.500000   \n",
              "25%                                      1.000000        7.500000   \n",
              "50%                                      3.000000        8.800000   \n",
              "75%                                      8.000000        9.600000   \n",
              "max                                    355.000000       10.000000   \n",
              "\n",
              "                 lat            lng  \n",
              "count  512470.000000  512470.000000  \n",
              "mean       49.442439       2.823803  \n",
              "std         3.466325       4.579425  \n",
              "min        41.328376      -0.369758  \n",
              "25%        48.214662      -0.143372  \n",
              "50%        51.499981       0.010607  \n",
              "75%        51.516288       4.834443  \n",
              "max        52.400181      16.429233  "
            ],
            "text/html": [
              "\n",
              "  <div id=\"df-9cde6364-b949-4237-9400-74b0c844e0fc\">\n",
              "    <div class=\"colab-df-container\">\n",
              "      <div>\n",
              "<style scoped>\n",
              "    .dataframe tbody tr th:only-of-type {\n",
              "        vertical-align: middle;\n",
              "    }\n",
              "\n",
              "    .dataframe tbody tr th {\n",
              "        vertical-align: top;\n",
              "    }\n",
              "\n",
              "    .dataframe thead th {\n",
              "        text-align: right;\n",
              "    }\n",
              "</style>\n",
              "<table border=\"1\" class=\"dataframe\">\n",
              "  <thead>\n",
              "    <tr style=\"text-align: right;\">\n",
              "      <th></th>\n",
              "      <th>Additional_Number_of_Scoring</th>\n",
              "      <th>Average_Score</th>\n",
              "      <th>Review_Total_Negative_Word_Counts</th>\n",
              "      <th>Total_Number_of_Reviews</th>\n",
              "      <th>Review_Total_Positive_Word_Counts</th>\n",
              "      <th>Total_Number_of_Reviews_Reviewer_Has_Given</th>\n",
              "      <th>Reviewer_Score</th>\n",
              "      <th>lat</th>\n",
              "      <th>lng</th>\n",
              "    </tr>\n",
              "  </thead>\n",
              "  <tbody>\n",
              "    <tr>\n",
              "      <th>count</th>\n",
              "      <td>515738.000000</td>\n",
              "      <td>515738.000000</td>\n",
              "      <td>515738.000000</td>\n",
              "      <td>515738.000000</td>\n",
              "      <td>515738.000000</td>\n",
              "      <td>515738.000000</td>\n",
              "      <td>515738.000000</td>\n",
              "      <td>512470.000000</td>\n",
              "      <td>512470.000000</td>\n",
              "    </tr>\n",
              "    <tr>\n",
              "      <th>mean</th>\n",
              "      <td>498.081836</td>\n",
              "      <td>8.397487</td>\n",
              "      <td>18.539450</td>\n",
              "      <td>2743.743944</td>\n",
              "      <td>17.776458</td>\n",
              "      <td>7.166001</td>\n",
              "      <td>8.395077</td>\n",
              "      <td>49.442439</td>\n",
              "      <td>2.823803</td>\n",
              "    </tr>\n",
              "    <tr>\n",
              "      <th>std</th>\n",
              "      <td>500.538467</td>\n",
              "      <td>0.548048</td>\n",
              "      <td>29.690831</td>\n",
              "      <td>2317.464868</td>\n",
              "      <td>21.804185</td>\n",
              "      <td>11.040228</td>\n",
              "      <td>1.637856</td>\n",
              "      <td>3.466325</td>\n",
              "      <td>4.579425</td>\n",
              "    </tr>\n",
              "    <tr>\n",
              "      <th>min</th>\n",
              "      <td>1.000000</td>\n",
              "      <td>5.200000</td>\n",
              "      <td>0.000000</td>\n",
              "      <td>43.000000</td>\n",
              "      <td>0.000000</td>\n",
              "      <td>1.000000</td>\n",
              "      <td>2.500000</td>\n",
              "      <td>41.328376</td>\n",
              "      <td>-0.369758</td>\n",
              "    </tr>\n",
              "    <tr>\n",
              "      <th>25%</th>\n",
              "      <td>169.000000</td>\n",
              "      <td>8.100000</td>\n",
              "      <td>2.000000</td>\n",
              "      <td>1161.000000</td>\n",
              "      <td>5.000000</td>\n",
              "      <td>1.000000</td>\n",
              "      <td>7.500000</td>\n",
              "      <td>48.214662</td>\n",
              "      <td>-0.143372</td>\n",
              "    </tr>\n",
              "    <tr>\n",
              "      <th>50%</th>\n",
              "      <td>341.000000</td>\n",
              "      <td>8.400000</td>\n",
              "      <td>9.000000</td>\n",
              "      <td>2134.000000</td>\n",
              "      <td>11.000000</td>\n",
              "      <td>3.000000</td>\n",
              "      <td>8.800000</td>\n",
              "      <td>51.499981</td>\n",
              "      <td>0.010607</td>\n",
              "    </tr>\n",
              "    <tr>\n",
              "      <th>75%</th>\n",
              "      <td>660.000000</td>\n",
              "      <td>8.800000</td>\n",
              "      <td>23.000000</td>\n",
              "      <td>3613.000000</td>\n",
              "      <td>22.000000</td>\n",
              "      <td>8.000000</td>\n",
              "      <td>9.600000</td>\n",
              "      <td>51.516288</td>\n",
              "      <td>4.834443</td>\n",
              "    </tr>\n",
              "    <tr>\n",
              "      <th>max</th>\n",
              "      <td>2682.000000</td>\n",
              "      <td>9.800000</td>\n",
              "      <td>408.000000</td>\n",
              "      <td>16670.000000</td>\n",
              "      <td>395.000000</td>\n",
              "      <td>355.000000</td>\n",
              "      <td>10.000000</td>\n",
              "      <td>52.400181</td>\n",
              "      <td>16.429233</td>\n",
              "    </tr>\n",
              "  </tbody>\n",
              "</table>\n",
              "</div>\n",
              "      <button class=\"colab-df-convert\" onclick=\"convertToInteractive('df-9cde6364-b949-4237-9400-74b0c844e0fc')\"\n",
              "              title=\"Convert this dataframe to an interactive table.\"\n",
              "              style=\"display:none;\">\n",
              "        \n",
              "  <svg xmlns=\"http://www.w3.org/2000/svg\" height=\"24px\"viewBox=\"0 0 24 24\"\n",
              "       width=\"24px\">\n",
              "    <path d=\"M0 0h24v24H0V0z\" fill=\"none\"/>\n",
              "    <path d=\"M18.56 5.44l.94 2.06.94-2.06 2.06-.94-2.06-.94-.94-2.06-.94 2.06-2.06.94zm-11 1L8.5 8.5l.94-2.06 2.06-.94-2.06-.94L8.5 2.5l-.94 2.06-2.06.94zm10 10l.94 2.06.94-2.06 2.06-.94-2.06-.94-.94-2.06-.94 2.06-2.06.94z\"/><path d=\"M17.41 7.96l-1.37-1.37c-.4-.4-.92-.59-1.43-.59-.52 0-1.04.2-1.43.59L10.3 9.45l-7.72 7.72c-.78.78-.78 2.05 0 2.83L4 21.41c.39.39.9.59 1.41.59.51 0 1.02-.2 1.41-.59l7.78-7.78 2.81-2.81c.8-.78.8-2.07 0-2.86zM5.41 20L4 18.59l7.72-7.72 1.47 1.35L5.41 20z\"/>\n",
              "  </svg>\n",
              "      </button>\n",
              "      \n",
              "  <style>\n",
              "    .colab-df-container {\n",
              "      display:flex;\n",
              "      flex-wrap:wrap;\n",
              "      gap: 12px;\n",
              "    }\n",
              "\n",
              "    .colab-df-convert {\n",
              "      background-color: #E8F0FE;\n",
              "      border: none;\n",
              "      border-radius: 50%;\n",
              "      cursor: pointer;\n",
              "      display: none;\n",
              "      fill: #1967D2;\n",
              "      height: 32px;\n",
              "      padding: 0 0 0 0;\n",
              "      width: 32px;\n",
              "    }\n",
              "\n",
              "    .colab-df-convert:hover {\n",
              "      background-color: #E2EBFA;\n",
              "      box-shadow: 0px 1px 2px rgba(60, 64, 67, 0.3), 0px 1px 3px 1px rgba(60, 64, 67, 0.15);\n",
              "      fill: #174EA6;\n",
              "    }\n",
              "\n",
              "    [theme=dark] .colab-df-convert {\n",
              "      background-color: #3B4455;\n",
              "      fill: #D2E3FC;\n",
              "    }\n",
              "\n",
              "    [theme=dark] .colab-df-convert:hover {\n",
              "      background-color: #434B5C;\n",
              "      box-shadow: 0px 1px 3px 1px rgba(0, 0, 0, 0.15);\n",
              "      filter: drop-shadow(0px 1px 2px rgba(0, 0, 0, 0.3));\n",
              "      fill: #FFFFFF;\n",
              "    }\n",
              "  </style>\n",
              "\n",
              "      <script>\n",
              "        const buttonEl =\n",
              "          document.querySelector('#df-9cde6364-b949-4237-9400-74b0c844e0fc button.colab-df-convert');\n",
              "        buttonEl.style.display =\n",
              "          google.colab.kernel.accessAllowed ? 'block' : 'none';\n",
              "\n",
              "        async function convertToInteractive(key) {\n",
              "          const element = document.querySelector('#df-9cde6364-b949-4237-9400-74b0c844e0fc');\n",
              "          const dataTable =\n",
              "            await google.colab.kernel.invokeFunction('convertToInteractive',\n",
              "                                                     [key], {});\n",
              "          if (!dataTable) return;\n",
              "\n",
              "          const docLinkHtml = 'Like what you see? Visit the ' +\n",
              "            '<a target=\"_blank\" href=https://colab.research.google.com/notebooks/data_table.ipynb>data table notebook</a>'\n",
              "            + ' to learn more about interactive tables.';\n",
              "          element.innerHTML = '';\n",
              "          dataTable['output_type'] = 'display_data';\n",
              "          await google.colab.output.renderOutput(dataTable, element);\n",
              "          const docLink = document.createElement('div');\n",
              "          docLink.innerHTML = docLinkHtml;\n",
              "          element.appendChild(docLink);\n",
              "        }\n",
              "      </script>\n",
              "    </div>\n",
              "  </div>\n",
              "  "
            ]
          },
          "metadata": {},
          "execution_count": 220
        }
      ]
    },
    {
      "cell_type": "code",
      "source": [
        "#null values\n",
        "print(data.isnull().sum())"
      ],
      "metadata": {
        "colab": {
          "base_uri": "https://localhost:8080/"
        },
        "id": "NTa8d8ahJwG7",
        "outputId": "8ff61508-faaf-45ba-983d-bf0d2426ea1b"
      },
      "execution_count": 221,
      "outputs": [
        {
          "output_type": "stream",
          "name": "stdout",
          "text": [
            "Hotel_Address                                    0\n",
            "Additional_Number_of_Scoring                     0\n",
            "Review_Date                                      0\n",
            "Average_Score                                    0\n",
            "Hotel_Name                                       0\n",
            "Reviewer_Nationality                             0\n",
            "Negative_Review                                  0\n",
            "Review_Total_Negative_Word_Counts                0\n",
            "Total_Number_of_Reviews                          0\n",
            "Positive_Review                                  0\n",
            "Review_Total_Positive_Word_Counts                0\n",
            "Total_Number_of_Reviews_Reviewer_Has_Given       0\n",
            "Reviewer_Score                                   0\n",
            "Tags                                             0\n",
            "days_since_review                                0\n",
            "lat                                           3268\n",
            "lng                                           3268\n",
            "dtype: int64\n"
          ]
        }
      ]
    },
    {
      "cell_type": "code",
      "source": [
        "#droping lat and lng\n",
        "data=data.dropna()"
      ],
      "metadata": {
        "id": "_60P7E8WKe5F"
      },
      "execution_count": 222,
      "outputs": []
    },
    {
      "cell_type": "code",
      "source": [
        "\n",
        "\n",
        "#count of nationality\n",
        "reviewer_nationality = data['Reviewer_Nationality'].value_counts()\n",
        "print(reviewer_nationality)"
      ],
      "metadata": {
        "colab": {
          "base_uri": "https://localhost:8080/"
        },
        "id": "qBLDFz-dK5NE",
        "outputId": "69f2f715-1173-4fea-c2a0-3728292169b1"
      },
      "execution_count": 223,
      "outputs": [
        {
          "output_type": "stream",
          "name": "stdout",
          "text": [
            " United Kingdom               244457\n",
            " United States of America      35196\n",
            " Australia                     21540\n",
            " Ireland                       14746\n",
            " United Arab Emirates          10176\n",
            "                               ...  \n",
            " Cape Verde                        1\n",
            " Northern Mariana Islands          1\n",
            " Tuvalu                            1\n",
            " Guinea                            1\n",
            " Palau                             1\n",
            "Name: Reviewer_Nationality, Length: 227, dtype: int64\n"
          ]
        }
      ]
    },
    {
      "cell_type": "code",
      "source": [
        "# Plot the distribution of Average_Score\n",
        "plt.hist(data['Average_Score'])\n",
        "plt.xlabel('Average Score')\n",
        "plt.ylabel('Frequency')\n",
        "plt.title('Distribution of Average Score')\n",
        "plt.show()\n"
      ],
      "metadata": {
        "colab": {
          "base_uri": "https://localhost:8080/",
          "height": 295
        },
        "id": "VmV1He3R3rd0",
        "outputId": "a47299de-1a9d-425b-e272-1f5b00d08142"
      },
      "execution_count": 224,
      "outputs": [
        {
          "output_type": "display_data",
          "data": {
            "text/plain": [
              "<Figure size 432x288 with 1 Axes>"
            ],
            "image/png": "[encoded data removed]"
          },
          "metadata": {
            "needs_background": "light"
          }
        }
      ]
    },
    {
      "cell_type": "code",
      "source": [
        "# Plot the distribution of Reviewer_Score\n",
        "plt.hist(data['Reviewer_Score'])\n",
        "plt.xlabel('Reviewer Score')\n",
        "plt.ylabel('Frequency')\n",
        "plt.title('Distribution of Reviewer Score')\n",
        "plt.show()\n",
        "\n"
      ],
      "metadata": {
        "colab": {
          "base_uri": "https://localhost:8080/",
          "height": 295
        },
        "id": "12RBGX9c3wKT",
        "outputId": "a0e47b6e-8e3f-47fb-b00d-f7f1bd1db5fb"
      },
      "execution_count": 225,
      "outputs": [
        {
          "output_type": "display_data",
          "data": {
            "text/plain": [
              "<Figure size 432x288 with 1 Axes>"
            ],
            "image/png": "[encoded data removed]"
          },
          "metadata": {
            "needs_background": "light"
          }
        }
      ]
    },
    {
      "cell_type": "code",
      "source": [
        "\n",
        "# Plot the distribution of Review_Total_Negative_Word_Counts\n",
        "plt.hist(data['Review_Total_Negative_Word_Counts'])\n",
        "plt.xlabel('Review Total Negative Word Counts')\n",
        "plt.ylabel('Frequency')\n",
        "plt.title('Distribution of Review Total Negative Word Counts')\n",
        "plt.show()\n"
      ],
      "metadata": {
        "colab": {
          "base_uri": "https://localhost:8080/",
          "height": 295
        },
        "id": "iXqfALxV33eJ",
        "outputId": "aa990c65-1502-4a3a-cd57-7e29a3613b12"
      },
      "execution_count": 226,
      "outputs": [
        {
          "output_type": "display_data",
          "data": {
            "text/plain": [
              "<Figure size 432x288 with 1 Axes>"
            ],
            "image/png": "[encoded data removed]"
          },
          "metadata": {
            "needs_background": "light"
          }
        }
      ]
    },
    {
      "cell_type": "code",
      "source": [
        "\n",
        "# Plot the distribution of Review_Total_Positive_Word_Counts\n",
        "plt.hist(data['Review_Total_Positive_Word_Counts'])\n",
        "plt.xlabel('Review Total Positive Word Counts')\n",
        "plt.ylabel('Frequency')\n",
        "plt.title('Distribution of Review Total Positive Word Counts')\n",
        "plt.show()\n",
        "\n"
      ],
      "metadata": {
        "colab": {
          "base_uri": "https://localhost:8080/",
          "height": 295
        },
        "id": "twlr0W5-39cT",
        "outputId": "22c06cbc-6492-48f1-ec26-cd2e0dea8f08"
      },
      "execution_count": 227,
      "outputs": [
        {
          "output_type": "display_data",
          "data": {
            "text/plain": [
              "<Figure size 432x288 with 1 Axes>"
            ],
            "image/png": "[encoded data removed]"
          },
          "metadata": {
            "needs_background": "light"
          }
        }
      ]
    },
    {
      "cell_type": "code",
      "source": [
        "#Plotting the distribution of days_since_review\n",
        "plt.hist(data['days_since_review'])\n",
        "plt.xlabel('days_since_review')\n",
        "plt.ylabel('Frequency')\n",
        "plt.title('Distribution of days_since_review')\n",
        "plt.show()\n"
      ],
      "metadata": {
        "colab": {
          "base_uri": "https://localhost:8080/",
          "height": 296
        },
        "id": "skziRgLY4BWG",
        "outputId": "207d8020-1547-4b18-9168-d1d62b24c68b"
      },
      "execution_count": 228,
      "outputs": [
        {
          "output_type": "display_data",
          "data": {
            "text/plain": [
              "<Figure size 432x288 with 1 Axes>"
            ],
            "image/png": "[encoded data removed]"
          },
          "metadata": {
            "needs_background": "light"
          }
        }
      ]
    },
    {
      "cell_type": "code",
      "source": [
        "data.keys()"
      ],
      "metadata": {
        "colab": {
          "base_uri": "https://localhost:8080/"
        },
        "id": "LrQ7MRqyDErQ",
        "outputId": "082df888-6e5a-43d1-9c70-baa61618c1a6"
      },
      "execution_count": 229,
      "outputs": [
        {
          "output_type": "execute_result",
          "data": {
            "text/plain": [
              "Index(['Hotel_Address', 'Additional_Number_of_Scoring', 'Review_Date',\n",
              "       'Average_Score', 'Hotel_Name', 'Reviewer_Nationality',\n",
              "       'Negative_Review', 'Review_Total_Negative_Word_Counts',\n",
              "       'Total_Number_of_Reviews', 'Positive_Review',\n",
              "       'Review_Total_Positive_Word_Counts',\n",
              "       'Total_Number_of_Reviews_Reviewer_Has_Given', 'Reviewer_Score', 'Tags',\n",
              "       'days_since_review', 'lat', 'lng'],\n",
              "      dtype='object')"
            ]
          },
          "metadata": {},
          "execution_count": 229
        }
      ]
    },
    {
      "cell_type": "code",
      "source": [],
      "metadata": {
        "id": "DS_9tPlpDfzv"
      },
      "execution_count": 229,
      "outputs": []
    },
    {
      "cell_type": "code",
      "source": [
        "\n",
        "\n",
        "from sklearn.linear_model import LogisticRegression\n",
        "from sklearn.model_selection import train_test_split\n",
        "from sklearn import metrics\n",
        "\n"
      ],
      "metadata": {
        "id": "mG73CykLLcoP"
      },
      "execution_count": 230,
      "outputs": []
    },
    {
      "cell_type": "code",
      "source": [
        "data['Target'] = np.where(data['Average_Score']>=7, 1, 0)\n"
      ],
      "metadata": {
        "id": "RETj0akULGET",
        "colab": {
          "base_uri": "https://localhost:8080/"
        },
        "outputId": "7fe49161-2468-4d2e-c54c-78f4c74ef9d5"
      },
      "execution_count": 231,
      "outputs": [
        {
          "output_type": "stream",
          "name": "stderr",
          "text": [
            "<ipython-input-231-056561156709>:1: SettingWithCopyWarning: \n",
            "A value is trying to be set on a copy of a slice from a DataFrame.\n",
            "Try using .loc[row_indexer,col_indexer] = value instead\n",
            "\n",
            "See the caveats in the documentation: https://pandas.pydata.org/pandas-docs/stable/user_guide/indexing.html#returning-a-view-versus-a-copy\n",
            "  data['Target'] = np.where(data['Average_Score']>=7, 1, 0)\n"
          ]
        }
      ]
    },
    {
      "cell_type": "code",
      "source": [
        "X = data[['Additional_Number_of_Scoring','Review_Total_Negative_Word_Counts', 'Review_Total_Positive_Word_Counts']]\n",
        "\n"
      ],
      "metadata": {
        "id": "BKPUqvVLLvRf"
      },
      "execution_count": 232,
      "outputs": []
    },
    {
      "cell_type": "code",
      "source": [
        "\n",
        "y = data['Target']"
      ],
      "metadata": {
        "id": "7A6ZITDFLzWT"
      },
      "execution_count": 233,
      "outputs": []
    },
    {
      "cell_type": "code",
      "source": [
        "X_train, X_test, y_train, y_test = train_test_split(X, y, test_size=0.3, random_state=16)\n",
        "\n"
      ],
      "metadata": {
        "id": "QulJe_8WL2Vc"
      },
      "execution_count": 234,
      "outputs": []
    },
    {
      "cell_type": "code",
      "source": [
        "#feature Scaling  \n",
        "from sklearn.preprocessing import StandardScaler    \n",
        "st_x= StandardScaler()    \n",
        "X_train= st_x.fit_transform(X_train)    \n",
        "X_test= st_x.transform(X_test)  "
      ],
      "metadata": {
        "id": "Axig3rA833eO"
      },
      "execution_count": 235,
      "outputs": []
    },
    {
      "cell_type": "code",
      "source": [
        " X_train.shape"
      ],
      "metadata": {
        "colab": {
          "base_uri": "https://localhost:8080/"
        },
        "id": "4ej2Lp6pL4xZ",
        "outputId": "6b7d5d8e-e7cd-420f-b74d-baf16aea33ed"
      },
      "execution_count": 236,
      "outputs": [
        {
          "output_type": "execute_result",
          "data": {
            "text/plain": [
              "(358729, 3)"
            ]
          },
          "metadata": {},
          "execution_count": 236
        }
      ]
    },
    {
      "cell_type": "code",
      "source": [
        "y_test.shape"
      ],
      "metadata": {
        "colab": {
          "base_uri": "https://localhost:8080/"
        },
        "id": "S24xV3x6NLKL",
        "outputId": "da768bb5-d87f-4e0f-a6da-cb2312ed0430"
      },
      "execution_count": 237,
      "outputs": [
        {
          "output_type": "execute_result",
          "data": {
            "text/plain": [
              "(153741,)"
            ]
          },
          "metadata": {},
          "execution_count": 237
        }
      ]
    },
    {
      "cell_type": "code",
      "source": [
        "\n",
        "y_train.shape"
      ],
      "metadata": {
        "colab": {
          "base_uri": "https://localhost:8080/"
        },
        "id": "lqmCKjLpNOcX",
        "outputId": "59e6de20-0334-480b-ee43-fc99eb4ca0fd"
      },
      "execution_count": 238,
      "outputs": [
        {
          "output_type": "execute_result",
          "data": {
            "text/plain": [
              "(358729,)"
            ]
          },
          "metadata": {},
          "execution_count": 238
        }
      ]
    },
    {
      "cell_type": "code",
      "source": [
        "\n",
        "X_test.shape"
      ],
      "metadata": {
        "colab": {
          "base_uri": "https://localhost:8080/"
        },
        "id": "T2IdCY51NWIV",
        "outputId": "1d02f57f-4c56-4237-b6f4-283fc780262a"
      },
      "execution_count": 239,
      "outputs": [
        {
          "output_type": "execute_result",
          "data": {
            "text/plain": [
              "(153741, 3)"
            ]
          },
          "metadata": {},
          "execution_count": 239
        }
      ]
    },
    {
      "cell_type": "code",
      "source": [],
      "metadata": {
        "id": "KBbpSR4MOu5y"
      },
      "execution_count": 239,
      "outputs": []
    },
    {
      "cell_type": "code",
      "source": [
        "log_reg = LogisticRegression()\n"
      ],
      "metadata": {
        "id": "q49yJ5wuYH5b"
      },
      "execution_count": 240,
      "outputs": []
    },
    {
      "cell_type": "code",
      "source": [
        "log_reg.fit(X_train, y_train)"
      ],
      "metadata": {
        "colab": {
          "base_uri": "https://localhost:8080/"
        },
        "id": "6Su6m62CYTIp",
        "outputId": "897c79c6-9a8b-4e91-bc43-20c54c51fd10"
      },
      "execution_count": 241,
      "outputs": [
        {
          "output_type": "execute_result",
          "data": {
            "text/plain": [
              "LogisticRegression()"
            ]
          },
          "metadata": {},
          "execution_count": 241
        }
      ]
    },
    {
      "cell_type": "code",
      "source": [
        "y_pred = log_reg.predict(X_test)\n"
      ],
      "metadata": {
        "id": "m8B9_IEfYXH1"
      },
      "execution_count": 242,
      "outputs": []
    },
    {
      "cell_type": "code",
      "source": [
        "accuracy = metrics.accuracy_score(y_test, y_pred)\n",
        "print(\"Accuracy: \", accuracy)\n",
        "\n"
      ],
      "metadata": {
        "colab": {
          "base_uri": "https://localhost:8080/"
        },
        "id": "xNCfIJ5zYgke",
        "outputId": "b23ddb6e-ecde-470f-fcd7-2c27502d7691"
      },
      "execution_count": 243,
      "outputs": [
        {
          "output_type": "stream",
          "name": "stdout",
          "text": [
            "Accuracy:  0.9893327089065376\n"
          ]
        }
      ]
    },
    {
      "cell_type": "code",
      "source": [
        "# Fitting Logistic Regression To the training set\n",
        "from sklearn.linear_model import LogisticRegression  \n",
        "  \n",
        "classifier = LogisticRegression(random_state = 11)\n",
        "classifier.fit(X_train, y_train)\n"
      ],
      "metadata": {
        "colab": {
          "base_uri": "https://localhost:8080/"
        },
        "id": "bUn2EzwLG1fM",
        "outputId": "53b2dcc7-6445-4cd8-f42e-6c69b3313057"
      },
      "execution_count": 244,
      "outputs": [
        {
          "output_type": "execute_result",
          "data": {
            "text/plain": [
              "LogisticRegression(random_state=11)"
            ]
          },
          "metadata": {},
          "execution_count": 244
        }
      ]
    },
    {
      "cell_type": "code",
      "source": [
        "# Predicting the test set result using \n",
        "# predict function under LogisticRegression \n",
        "y_pred = classifier.predict(X_test)\n",
        " "
      ],
      "metadata": {
        "id": "lUyi0uypG9Oq"
      },
      "execution_count": 245,
      "outputs": []
    },
    {
      "cell_type": "code",
      "source": [],
      "metadata": {
        "id": "bzkSz_M00ueA"
      },
      "execution_count": 245,
      "outputs": []
    },
    {
      "cell_type": "code",
      "source": [
        "accuracy = metrics.accuracy_score(y_test, y_pred)\n",
        "print(\"Accuracy: \", accuracy)\n",
        "\n"
      ],
      "metadata": {
        "colab": {
          "base_uri": "https://localhost:8080/"
        },
        "outputId": "9d6f8928-2cbb-4f72-d772-848f1d6717cb",
        "id": "Hki0Vbct03lF"
      },
      "execution_count": 246,
      "outputs": [
        {
          "output_type": "stream",
          "name": "stdout",
          "text": [
            "Accuracy:  0.9893327089065376\n"
          ]
        }
      ]
    },
    {
      "cell_type": "code",
      "source": [
        "from sklearn.neighbors import KNeighborsClassifier\n",
        "knn= KNeighborsClassifier(n_neighbors=5, metric='minkowski', p=2 )  \n",
        "knn.fit(X_train,y_train)\n",
        "y_pred = knn.predict(X_test)\n",
        "print(metrics.accuracy_score(y_test,y_pred))\n"
      ],
      "metadata": {
        "colab": {
          "base_uri": "https://localhost:8080/"
        },
        "id": "1N2RBaS_Y3lC",
        "outputId": "06dfa507-b71c-4173-d6ea-af1c3ad44e27"
      },
      "execution_count": 247,
      "outputs": [
        {
          "output_type": "stream",
          "name": "stdout",
          "text": [
            "0.9890139910628915\n"
          ]
        }
      ]
    },
    {
      "cell_type": "code",
      "source": [
        "\n",
        "from sklearn.neighbors import KNeighborsClassifier\n",
        "knn=KNeighborsClassifier(n_neighbors=9)\n",
        "knn.fit(X_train,y_train)\n",
        "y_pred = knn.predict(X_test)\n",
        "print(metrics.accuracy_score(y_test,y_pred))\n"
      ],
      "metadata": {
        "colab": {
          "base_uri": "https://localhost:8080/"
        },
        "outputId": "28c6f98f-1433-4742-be20-b1bc45ccd263",
        "id": "9iK1mG_fZ62S"
      },
      "execution_count": 248,
      "outputs": [
        {
          "output_type": "stream",
          "name": "stdout",
          "text": [
            "0.9892351422197072\n"
          ]
        }
      ]
    },
    {
      "cell_type": "code",
      "execution_count": 279,
      "metadata": {
        "id": "hPIxqPaqli5N",
        "outputId": "381a2309-47f6-4243-be76-207def36728d",
        "colab": {
          "base_uri": "https://localhost:8080/"
        }
      },
      "outputs": [
        {
          "output_type": "stream",
          "name": "stdout",
          "text": [
            "best_k = 9\n",
            "best_score = 0.9892351422197072\n"
          ]
        }
      ],
      "source": [
        "best_score =0\n",
        "best_k =0\n",
        "for k in range(1, 11):\n",
        "    knn_clf_sk = KNeighborsClassifier(n_neighbors=k)\n",
        "    knn_clf_sk.fit(X_train, y_train)\n",
        "    score = knn_clf_sk.score(X_test, y_test)\n",
        "    if score > best_score:\n",
        "        best_k = k\n",
        "        best_score = score\n",
        "\n",
        "print(\"best_k = \" + str(best_k))\n",
        "print(\"best_score = \" + str(best_score))"
      ]
    },
    {
      "cell_type": "code",
      "source": [
        "from sklearn.metrics import classification_report, confusion_matrix, accuracy_score\n",
        "result = confusion_matrix(y_test, y_pred)\n",
        "print(\"Confusion Matrix:\")\n",
        "print(result)\n",
        "result1 = classification_report(y_test, y_pred)\n",
        "print(\"Classification Report:\",)\n",
        "print (result1)\n",
        "result2 = accuracy_score(y_test,y_pred)\n",
        "print(\"Accuracy:\",result2)"
      ],
      "metadata": {
        "colab": {
          "base_uri": "https://localhost:8080/"
        },
        "id": "yKyvCbKFtgoU",
        "outputId": "43c06738-dd4c-4033-a7a6-959f36c8c0ce"
      },
      "execution_count": 281,
      "outputs": [
        {
          "output_type": "stream",
          "name": "stdout",
          "text": [
            "Confusion Matrix:\n",
            "[[    33   1607]\n",
            " [    48 152053]]\n",
            "Classification Report:\n",
            "              precision    recall  f1-score   support\n",
            "\n",
            "           0       0.41      0.02      0.04      1640\n",
            "           1       0.99      1.00      0.99    152101\n",
            "\n",
            "    accuracy                           0.99    153741\n",
            "   macro avg       0.70      0.51      0.52    153741\n",
            "weighted avg       0.98      0.99      0.98    153741\n",
            "\n",
            "Accuracy: 0.9892351422197072\n"
          ]
        }
      ]
    },
    {
      "cell_type": "code",
      "source": [],
      "metadata": {
        "id": "odV5L1E-QyZy"
      },
      "execution_count": null,
      "outputs": []
    },
    {
      "cell_type": "code",
      "source": [],
      "metadata": {
        "id": "Ydx6Uc5SQ4Q8"
      },
      "execution_count": null,
      "outputs": []
    },
    {
      "cell_type": "code",
      "source": [
        "\n"
      ],
      "metadata": {
        "id": "jhCeMttqRpZE"
      },
      "execution_count": null,
      "outputs": []
    },
    {
      "cell_type": "code",
      "source": [],
      "metadata": {
        "id": "hBGS3cpiTjc1"
      },
      "execution_count": null,
      "outputs": []
    }
  ]
}